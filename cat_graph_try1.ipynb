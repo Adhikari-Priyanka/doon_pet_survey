{
 "cells": [
  {
   "cell_type": "code",
   "execution_count": 56,
   "metadata": {},
   "outputs": [],
   "source": [
    "import pandas as pd\n",
    "import numpy as np\n",
    "import plotly.express as px\n",
    "import plotly.colors"
   ]
  },
  {
   "cell_type": "code",
   "execution_count": 57,
   "metadata": {},
   "outputs": [
    {
     "name": "stdout",
     "output_type": "stream",
     "text": [
      "No of cat responses is  139\n"
     ]
    }
   ],
   "source": [
    "df = pd.read_csv(\"F:\\\\github\\\\doon_pet_survey\\\\cat_combine_nona.csv\")\n",
    "print('No of cat responses is ', len(df))\n",
    "\n"
   ]
  },
  {
   "cell_type": "code",
   "execution_count": 80,
   "metadata": {},
   "outputs": [],
   "source": [
    "#Define color scale\n",
    "col_scale = px.colors.sequential.Purples\n",
    "col_scale.reverse()"
   ]
  },
  {
   "cell_type": "code",
   "execution_count": 64,
   "metadata": {},
   "outputs": [],
   "source": [
    "a = list(range(len(col_scale)))\n",
    "b=int(len(col_scale)/len(df['cat_age'].unique()))\n",
    "c=a[0::b]\n",
    "req_col_scale = [col_scale[i] for i in c]\n",
    "\n"
   ]
  },
  {
   "cell_type": "code",
   "execution_count": 81,
   "metadata": {},
   "outputs": [
    {
     "data": {
      "application/vnd.plotly.v1+json": {
       "config": {
        "plotlyServerURL": "https://plot.ly"
       },
       "data": [
        {
         "alignmentgroup": "True",
         "bingroup": "x",
         "hovertemplate": "cat_age=%{x}<br>count=%{y}<extra></extra>",
         "legendgroup": "Junior (7 months - 2 years)",
         "marker": {
          "color": "rgb(63,0,125)",
          "pattern": {
           "shape": ""
          }
         },
         "name": "Junior (7 months - 2 years)",
         "offsetgroup": "Junior (7 months - 2 years)",
         "orientation": "v",
         "showlegend": true,
         "type": "histogram",
         "x": [
          "Junior (7 months - 2 years)",
          "Junior (7 months - 2 years)",
          "Junior (7 months - 2 years)",
          "Junior (7 months - 2 years)",
          "Junior (7 months - 2 years)",
          "Junior (7 months - 2 years)",
          "Junior (7 months - 2 years)",
          "Junior (7 months - 2 years)",
          "Junior (7 months - 2 years)",
          "Junior (7 months - 2 years)",
          "Junior (7 months - 2 years)",
          "Junior (7 months - 2 years)",
          "Junior (7 months - 2 years)",
          "Junior (7 months - 2 years)",
          "Junior (7 months - 2 years)",
          "Junior (7 months - 2 years)",
          "Junior (7 months - 2 years)",
          "Junior (7 months - 2 years)",
          "Junior (7 months - 2 years)",
          "Junior (7 months - 2 years)",
          "Junior (7 months - 2 years)",
          "Junior (7 months - 2 years)",
          "Junior (7 months - 2 years)",
          "Junior (7 months - 2 years)",
          "Junior (7 months - 2 years)",
          "Junior (7 months - 2 years)",
          "Junior (7 months - 2 years)",
          "Junior (7 months - 2 years)",
          "Junior (7 months - 2 years)",
          "Junior (7 months - 2 years)",
          "Junior (7 months - 2 years)",
          "Junior (7 months - 2 years)",
          "Junior (7 months - 2 years)",
          "Junior (7 months - 2 years)",
          "Junior (7 months - 2 years)",
          "Junior (7 months - 2 years)",
          "Junior (7 months - 2 years)",
          "Junior (7 months - 2 years)",
          "Junior (7 months - 2 years)",
          "Junior (7 months - 2 years)",
          "Junior (7 months - 2 years)",
          "Junior (7 months - 2 years)",
          "Junior (7 months - 2 years)",
          "Junior (7 months - 2 years)",
          "Junior (7 months - 2 years)",
          "Junior (7 months - 2 years)",
          "Junior (7 months - 2 years)",
          "Junior (7 months - 2 years)",
          "Junior (7 months - 2 years)",
          "Junior (7 months - 2 years)",
          "Junior (7 months - 2 years)",
          "Junior (7 months - 2 years)",
          "Junior (7 months - 2 years)",
          "Junior (7 months - 2 years)",
          "Junior (7 months - 2 years)",
          "Junior (7 months - 2 years)",
          "Junior (7 months - 2 years)",
          "Junior (7 months - 2 years)"
         ],
         "xaxis": "x",
         "yaxis": "y"
        },
        {
         "alignmentgroup": "True",
         "bingroup": "x",
         "hovertemplate": "cat_age=%{x}<br>count=%{y}<extra></extra>",
         "legendgroup": "Adult (3-6 years)",
         "marker": {
          "color": "rgb(84,39,143)",
          "pattern": {
           "shape": ""
          }
         },
         "name": "Adult (3-6 years)",
         "offsetgroup": "Adult (3-6 years)",
         "orientation": "v",
         "showlegend": true,
         "type": "histogram",
         "x": [
          "Adult (3-6 years)",
          "Adult (3-6 years)",
          "Adult (3-6 years)",
          "Adult (3-6 years)",
          "Adult (3-6 years)",
          "Adult (3-6 years)",
          "Adult (3-6 years)",
          "Adult (3-6 years)",
          "Adult (3-6 years)",
          "Adult (3-6 years)",
          "Adult (3-6 years)",
          "Adult (3-6 years)",
          "Adult (3-6 years)",
          "Adult (3-6 years)",
          "Adult (3-6 years)",
          "Adult (3-6 years)",
          "Adult (3-6 years)",
          "Adult (3-6 years)",
          "Adult (3-6 years)",
          "Adult (3-6 years)",
          "Adult (3-6 years)",
          "Adult (3-6 years)",
          "Adult (3-6 years)",
          "Adult (3-6 years)",
          "Adult (3-6 years)",
          "Adult (3-6 years)",
          "Adult (3-6 years)",
          "Adult (3-6 years)",
          "Adult (3-6 years)",
          "Adult (3-6 years)",
          "Adult (3-6 years)",
          "Adult (3-6 years)",
          "Adult (3-6 years)",
          "Adult (3-6 years)",
          "Adult (3-6 years)",
          "Adult (3-6 years)",
          "Adult (3-6 years)",
          "Adult (3-6 years)",
          "Adult (3-6 years)",
          "Adult (3-6 years)",
          "Adult (3-6 years)"
         ],
         "xaxis": "x",
         "yaxis": "y"
        },
        {
         "alignmentgroup": "True",
         "bingroup": "x",
         "hovertemplate": "cat_age=%{x}<br>count=%{y}<extra></extra>",
         "legendgroup": "Kitten (0-6 months)",
         "marker": {
          "color": "rgb(106,81,163)",
          "pattern": {
           "shape": ""
          }
         },
         "name": "Kitten (0-6 months)",
         "offsetgroup": "Kitten (0-6 months)",
         "orientation": "v",
         "showlegend": true,
         "type": "histogram",
         "x": [
          "Kitten (0-6 months)",
          "Kitten (0-6 months)",
          "Kitten (0-6 months)",
          "Kitten (0-6 months)",
          "Kitten (0-6 months)",
          "Kitten (0-6 months)",
          "Kitten (0-6 months)",
          "Kitten (0-6 months)",
          "Kitten (0-6 months)",
          "Kitten (0-6 months)",
          "Kitten (0-6 months)",
          "Kitten (0-6 months)",
          "Kitten (0-6 months)",
          "Kitten (0-6 months)",
          "Kitten (0-6 months)",
          "Kitten (0-6 months)",
          "Kitten (0-6 months)",
          "Kitten (0-6 months)",
          "Kitten (0-6 months)",
          "Kitten (0-6 months)",
          "Kitten (0-6 months)",
          "Kitten (0-6 months)",
          "Kitten (0-6 months)",
          "Kitten (0-6 months)",
          "Kitten (0-6 months)",
          "Kitten (0-6 months)",
          "Kitten (0-6 months)",
          "Kitten (0-6 months)",
          "Kitten (0-6 months)",
          "Kitten (0-6 months)",
          "Kitten (0-6 months)",
          "Kitten (0-6 months)",
          "Kitten (0-6 months)",
          "Kitten (0-6 months)",
          "Kitten (0-6 months)"
         ],
         "xaxis": "x",
         "yaxis": "y"
        },
        {
         "alignmentgroup": "True",
         "bingroup": "x",
         "hovertemplate": "cat_age=%{x}<br>count=%{y}<extra></extra>",
         "legendgroup": "Mature (7-10 years)",
         "marker": {
          "color": "rgb(128,125,186)",
          "pattern": {
           "shape": ""
          }
         },
         "name": "Mature (7-10 years)",
         "offsetgroup": "Mature (7-10 years)",
         "orientation": "v",
         "showlegend": true,
         "type": "histogram",
         "x": [
          "Mature (7-10 years)",
          "Mature (7-10 years)",
          "Mature (7-10 years)"
         ],
         "xaxis": "x",
         "yaxis": "y"
        },
        {
         "alignmentgroup": "True",
         "bingroup": "x",
         "hovertemplate": "cat_age=%{x}<br>count=%{y}<extra></extra>",
         "legendgroup": "Senior (11-14 years)",
         "marker": {
          "color": "rgb(158,154,200)",
          "pattern": {
           "shape": ""
          }
         },
         "name": "Senior (11-14 years)",
         "offsetgroup": "Senior (11-14 years)",
         "orientation": "v",
         "showlegend": true,
         "type": "histogram",
         "x": [
          "Senior (11-14 years)",
          "Senior (11-14 years)"
         ],
         "xaxis": "x",
         "yaxis": "y"
        }
       ],
       "layout": {
        "barmode": "relative",
        "legend": {
         "title": {
          "text": "cat_age"
         },
         "tracegroupgap": 0
        },
        "template": {
         "data": {
          "bar": [
           {
            "error_x": {
             "color": "#2a3f5f"
            },
            "error_y": {
             "color": "#2a3f5f"
            },
            "marker": {
             "line": {
              "color": "#E5ECF6",
              "width": 0.5
             },
             "pattern": {
              "fillmode": "overlay",
              "size": 10,
              "solidity": 0.2
             }
            },
            "type": "bar"
           }
          ],
          "barpolar": [
           {
            "marker": {
             "line": {
              "color": "#E5ECF6",
              "width": 0.5
             },
             "pattern": {
              "fillmode": "overlay",
              "size": 10,
              "solidity": 0.2
             }
            },
            "type": "barpolar"
           }
          ],
          "carpet": [
           {
            "aaxis": {
             "endlinecolor": "#2a3f5f",
             "gridcolor": "white",
             "linecolor": "white",
             "minorgridcolor": "white",
             "startlinecolor": "#2a3f5f"
            },
            "baxis": {
             "endlinecolor": "#2a3f5f",
             "gridcolor": "white",
             "linecolor": "white",
             "minorgridcolor": "white",
             "startlinecolor": "#2a3f5f"
            },
            "type": "carpet"
           }
          ],
          "choropleth": [
           {
            "colorbar": {
             "outlinewidth": 0,
             "ticks": ""
            },
            "type": "choropleth"
           }
          ],
          "contour": [
           {
            "colorbar": {
             "outlinewidth": 0,
             "ticks": ""
            },
            "colorscale": [
             [
              0,
              "#0d0887"
             ],
             [
              0.1111111111111111,
              "#46039f"
             ],
             [
              0.2222222222222222,
              "#7201a8"
             ],
             [
              0.3333333333333333,
              "#9c179e"
             ],
             [
              0.4444444444444444,
              "#bd3786"
             ],
             [
              0.5555555555555556,
              "#d8576b"
             ],
             [
              0.6666666666666666,
              "#ed7953"
             ],
             [
              0.7777777777777778,
              "#fb9f3a"
             ],
             [
              0.8888888888888888,
              "#fdca26"
             ],
             [
              1,
              "#f0f921"
             ]
            ],
            "type": "contour"
           }
          ],
          "contourcarpet": [
           {
            "colorbar": {
             "outlinewidth": 0,
             "ticks": ""
            },
            "type": "contourcarpet"
           }
          ],
          "heatmap": [
           {
            "colorbar": {
             "outlinewidth": 0,
             "ticks": ""
            },
            "colorscale": [
             [
              0,
              "#0d0887"
             ],
             [
              0.1111111111111111,
              "#46039f"
             ],
             [
              0.2222222222222222,
              "#7201a8"
             ],
             [
              0.3333333333333333,
              "#9c179e"
             ],
             [
              0.4444444444444444,
              "#bd3786"
             ],
             [
              0.5555555555555556,
              "#d8576b"
             ],
             [
              0.6666666666666666,
              "#ed7953"
             ],
             [
              0.7777777777777778,
              "#fb9f3a"
             ],
             [
              0.8888888888888888,
              "#fdca26"
             ],
             [
              1,
              "#f0f921"
             ]
            ],
            "type": "heatmap"
           }
          ],
          "heatmapgl": [
           {
            "colorbar": {
             "outlinewidth": 0,
             "ticks": ""
            },
            "colorscale": [
             [
              0,
              "#0d0887"
             ],
             [
              0.1111111111111111,
              "#46039f"
             ],
             [
              0.2222222222222222,
              "#7201a8"
             ],
             [
              0.3333333333333333,
              "#9c179e"
             ],
             [
              0.4444444444444444,
              "#bd3786"
             ],
             [
              0.5555555555555556,
              "#d8576b"
             ],
             [
              0.6666666666666666,
              "#ed7953"
             ],
             [
              0.7777777777777778,
              "#fb9f3a"
             ],
             [
              0.8888888888888888,
              "#fdca26"
             ],
             [
              1,
              "#f0f921"
             ]
            ],
            "type": "heatmapgl"
           }
          ],
          "histogram": [
           {
            "marker": {
             "pattern": {
              "fillmode": "overlay",
              "size": 10,
              "solidity": 0.2
             }
            },
            "type": "histogram"
           }
          ],
          "histogram2d": [
           {
            "colorbar": {
             "outlinewidth": 0,
             "ticks": ""
            },
            "colorscale": [
             [
              0,
              "#0d0887"
             ],
             [
              0.1111111111111111,
              "#46039f"
             ],
             [
              0.2222222222222222,
              "#7201a8"
             ],
             [
              0.3333333333333333,
              "#9c179e"
             ],
             [
              0.4444444444444444,
              "#bd3786"
             ],
             [
              0.5555555555555556,
              "#d8576b"
             ],
             [
              0.6666666666666666,
              "#ed7953"
             ],
             [
              0.7777777777777778,
              "#fb9f3a"
             ],
             [
              0.8888888888888888,
              "#fdca26"
             ],
             [
              1,
              "#f0f921"
             ]
            ],
            "type": "histogram2d"
           }
          ],
          "histogram2dcontour": [
           {
            "colorbar": {
             "outlinewidth": 0,
             "ticks": ""
            },
            "colorscale": [
             [
              0,
              "#0d0887"
             ],
             [
              0.1111111111111111,
              "#46039f"
             ],
             [
              0.2222222222222222,
              "#7201a8"
             ],
             [
              0.3333333333333333,
              "#9c179e"
             ],
             [
              0.4444444444444444,
              "#bd3786"
             ],
             [
              0.5555555555555556,
              "#d8576b"
             ],
             [
              0.6666666666666666,
              "#ed7953"
             ],
             [
              0.7777777777777778,
              "#fb9f3a"
             ],
             [
              0.8888888888888888,
              "#fdca26"
             ],
             [
              1,
              "#f0f921"
             ]
            ],
            "type": "histogram2dcontour"
           }
          ],
          "mesh3d": [
           {
            "colorbar": {
             "outlinewidth": 0,
             "ticks": ""
            },
            "type": "mesh3d"
           }
          ],
          "parcoords": [
           {
            "line": {
             "colorbar": {
              "outlinewidth": 0,
              "ticks": ""
             }
            },
            "type": "parcoords"
           }
          ],
          "pie": [
           {
            "automargin": true,
            "type": "pie"
           }
          ],
          "scatter": [
           {
            "fillpattern": {
             "fillmode": "overlay",
             "size": 10,
             "solidity": 0.2
            },
            "type": "scatter"
           }
          ],
          "scatter3d": [
           {
            "line": {
             "colorbar": {
              "outlinewidth": 0,
              "ticks": ""
             }
            },
            "marker": {
             "colorbar": {
              "outlinewidth": 0,
              "ticks": ""
             }
            },
            "type": "scatter3d"
           }
          ],
          "scattercarpet": [
           {
            "marker": {
             "colorbar": {
              "outlinewidth": 0,
              "ticks": ""
             }
            },
            "type": "scattercarpet"
           }
          ],
          "scattergeo": [
           {
            "marker": {
             "colorbar": {
              "outlinewidth": 0,
              "ticks": ""
             }
            },
            "type": "scattergeo"
           }
          ],
          "scattergl": [
           {
            "marker": {
             "colorbar": {
              "outlinewidth": 0,
              "ticks": ""
             }
            },
            "type": "scattergl"
           }
          ],
          "scattermapbox": [
           {
            "marker": {
             "colorbar": {
              "outlinewidth": 0,
              "ticks": ""
             }
            },
            "type": "scattermapbox"
           }
          ],
          "scatterpolar": [
           {
            "marker": {
             "colorbar": {
              "outlinewidth": 0,
              "ticks": ""
             }
            },
            "type": "scatterpolar"
           }
          ],
          "scatterpolargl": [
           {
            "marker": {
             "colorbar": {
              "outlinewidth": 0,
              "ticks": ""
             }
            },
            "type": "scatterpolargl"
           }
          ],
          "scatterternary": [
           {
            "marker": {
             "colorbar": {
              "outlinewidth": 0,
              "ticks": ""
             }
            },
            "type": "scatterternary"
           }
          ],
          "surface": [
           {
            "colorbar": {
             "outlinewidth": 0,
             "ticks": ""
            },
            "colorscale": [
             [
              0,
              "#0d0887"
             ],
             [
              0.1111111111111111,
              "#46039f"
             ],
             [
              0.2222222222222222,
              "#7201a8"
             ],
             [
              0.3333333333333333,
              "#9c179e"
             ],
             [
              0.4444444444444444,
              "#bd3786"
             ],
             [
              0.5555555555555556,
              "#d8576b"
             ],
             [
              0.6666666666666666,
              "#ed7953"
             ],
             [
              0.7777777777777778,
              "#fb9f3a"
             ],
             [
              0.8888888888888888,
              "#fdca26"
             ],
             [
              1,
              "#f0f921"
             ]
            ],
            "type": "surface"
           }
          ],
          "table": [
           {
            "cells": {
             "fill": {
              "color": "#EBF0F8"
             },
             "line": {
              "color": "white"
             }
            },
            "header": {
             "fill": {
              "color": "#C8D4E3"
             },
             "line": {
              "color": "white"
             }
            },
            "type": "table"
           }
          ]
         },
         "layout": {
          "annotationdefaults": {
           "arrowcolor": "#2a3f5f",
           "arrowhead": 0,
           "arrowwidth": 1
          },
          "autotypenumbers": "strict",
          "coloraxis": {
           "colorbar": {
            "outlinewidth": 0,
            "ticks": ""
           }
          },
          "colorscale": {
           "diverging": [
            [
             0,
             "#8e0152"
            ],
            [
             0.1,
             "#c51b7d"
            ],
            [
             0.2,
             "#de77ae"
            ],
            [
             0.3,
             "#f1b6da"
            ],
            [
             0.4,
             "#fde0ef"
            ],
            [
             0.5,
             "#f7f7f7"
            ],
            [
             0.6,
             "#e6f5d0"
            ],
            [
             0.7,
             "#b8e186"
            ],
            [
             0.8,
             "#7fbc41"
            ],
            [
             0.9,
             "#4d9221"
            ],
            [
             1,
             "#276419"
            ]
           ],
           "sequential": [
            [
             0,
             "#0d0887"
            ],
            [
             0.1111111111111111,
             "#46039f"
            ],
            [
             0.2222222222222222,
             "#7201a8"
            ],
            [
             0.3333333333333333,
             "#9c179e"
            ],
            [
             0.4444444444444444,
             "#bd3786"
            ],
            [
             0.5555555555555556,
             "#d8576b"
            ],
            [
             0.6666666666666666,
             "#ed7953"
            ],
            [
             0.7777777777777778,
             "#fb9f3a"
            ],
            [
             0.8888888888888888,
             "#fdca26"
            ],
            [
             1,
             "#f0f921"
            ]
           ],
           "sequentialminus": [
            [
             0,
             "#0d0887"
            ],
            [
             0.1111111111111111,
             "#46039f"
            ],
            [
             0.2222222222222222,
             "#7201a8"
            ],
            [
             0.3333333333333333,
             "#9c179e"
            ],
            [
             0.4444444444444444,
             "#bd3786"
            ],
            [
             0.5555555555555556,
             "#d8576b"
            ],
            [
             0.6666666666666666,
             "#ed7953"
            ],
            [
             0.7777777777777778,
             "#fb9f3a"
            ],
            [
             0.8888888888888888,
             "#fdca26"
            ],
            [
             1,
             "#f0f921"
            ]
           ]
          },
          "colorway": [
           "#636efa",
           "#EF553B",
           "#00cc96",
           "#ab63fa",
           "#FFA15A",
           "#19d3f3",
           "#FF6692",
           "#B6E880",
           "#FF97FF",
           "#FECB52"
          ],
          "font": {
           "color": "#2a3f5f"
          },
          "geo": {
           "bgcolor": "white",
           "lakecolor": "white",
           "landcolor": "#E5ECF6",
           "showlakes": true,
           "showland": true,
           "subunitcolor": "white"
          },
          "hoverlabel": {
           "align": "left"
          },
          "hovermode": "closest",
          "mapbox": {
           "style": "light"
          },
          "paper_bgcolor": "white",
          "plot_bgcolor": "#E5ECF6",
          "polar": {
           "angularaxis": {
            "gridcolor": "white",
            "linecolor": "white",
            "ticks": ""
           },
           "bgcolor": "#E5ECF6",
           "radialaxis": {
            "gridcolor": "white",
            "linecolor": "white",
            "ticks": ""
           }
          },
          "scene": {
           "xaxis": {
            "backgroundcolor": "#E5ECF6",
            "gridcolor": "white",
            "gridwidth": 2,
            "linecolor": "white",
            "showbackground": true,
            "ticks": "",
            "zerolinecolor": "white"
           },
           "yaxis": {
            "backgroundcolor": "#E5ECF6",
            "gridcolor": "white",
            "gridwidth": 2,
            "linecolor": "white",
            "showbackground": true,
            "ticks": "",
            "zerolinecolor": "white"
           },
           "zaxis": {
            "backgroundcolor": "#E5ECF6",
            "gridcolor": "white",
            "gridwidth": 2,
            "linecolor": "white",
            "showbackground": true,
            "ticks": "",
            "zerolinecolor": "white"
           }
          },
          "shapedefaults": {
           "line": {
            "color": "#2a3f5f"
           }
          },
          "ternary": {
           "aaxis": {
            "gridcolor": "white",
            "linecolor": "white",
            "ticks": ""
           },
           "baxis": {
            "gridcolor": "white",
            "linecolor": "white",
            "ticks": ""
           },
           "bgcolor": "#E5ECF6",
           "caxis": {
            "gridcolor": "white",
            "linecolor": "white",
            "ticks": ""
           }
          },
          "title": {
           "x": 0.05
          },
          "xaxis": {
           "automargin": true,
           "gridcolor": "white",
           "linecolor": "white",
           "ticks": "",
           "title": {
            "standoff": 15
           },
           "zerolinecolor": "white",
           "zerolinewidth": 2
          },
          "yaxis": {
           "automargin": true,
           "gridcolor": "white",
           "linecolor": "white",
           "ticks": "",
           "title": {
            "standoff": 15
           },
           "zerolinecolor": "white",
           "zerolinewidth": 2
          }
         }
        },
        "title": {
         "text": "Distribution of cat ages"
        },
        "xaxis": {
         "anchor": "y",
         "categoryarray": [
          "Kitten (0-6 months)",
          "Junior (7 months - 2 years)",
          "Adult (3-6 years)",
          "Mature (7-10 years)",
          "Senior (11-14 years)"
         ],
         "categoryorder": "array",
         "domain": [
          0,
          1
         ],
         "title": {
          "text": "Cat age groups"
         }
        },
        "yaxis": {
         "anchor": "x",
         "domain": [
          0,
          1
         ],
         "title": {
          "text": "Count"
         }
        }
       }
      }
     },
     "metadata": {},
     "output_type": "display_data"
    }
   ],
   "source": [
    "\n",
    "\n",
    "fig = px.histogram(df, x=\"cat_age\",\n",
    "                title=\"Distribution of cat ages\",\n",
    "                color= 'cat_age',\n",
    "                color_discrete_sequence= col_scale[:len(df['cat_age'].unique())])\n",
    "\n",
    "fig.update_yaxes(title = 'Count')\n",
    "\n",
    "fig.update_xaxes(title = 'Cat age groups', categoryorder='array', \n",
    "                 categoryarray =  ['Kitten (0-6 months)','Junior (7 months - 2 years)',\n",
    "                                   'Adult (3-6 years)','Mature (7-10 years)', 'Senior (11-14 years)'])\n",
    "fig.show()"
   ]
  },
  {
   "cell_type": "code",
   "execution_count": 61,
   "metadata": {},
   "outputs": [
    {
     "ename": "SyntaxError",
     "evalue": "invalid syntax (979221859.py, line 1)",
     "output_type": "error",
     "traceback": [
      "\u001b[1;36m  Cell \u001b[1;32mIn[61], line 1\u001b[1;36m\u001b[0m\n\u001b[1;33m    categoryarray=\u001b[0m\n\u001b[1;37m                  ^\u001b[0m\n\u001b[1;31mSyntaxError\u001b[0m\u001b[1;31m:\u001b[0m invalid syntax\n"
     ]
    }
   ],
   "source": [
    "categoryarray="
   ]
  },
  {
   "cell_type": "code",
   "execution_count": null,
   "metadata": {},
   "outputs": [],
   "source": []
  }
 ],
 "metadata": {
  "kernelspec": {
   "display_name": "Python 3",
   "language": "python",
   "name": "python3"
  },
  "language_info": {
   "codemirror_mode": {
    "name": "ipython",
    "version": 3
   },
   "file_extension": ".py",
   "mimetype": "text/x-python",
   "name": "python",
   "nbconvert_exporter": "python",
   "pygments_lexer": "ipython3",
   "version": "3.12.3"
  }
 },
 "nbformat": 4,
 "nbformat_minor": 2
}
