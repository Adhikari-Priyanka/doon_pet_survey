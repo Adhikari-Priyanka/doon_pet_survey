{
 "cells": [
  {
   "cell_type": "code",
   "execution_count": 35,
   "metadata": {},
   "outputs": [],
   "source": [
    "import pandas as pd\n",
    "import numpy as np\n",
    "import scipy.stats as stats\n",
    "from scipy.stats import chi2"
   ]
  },
  {
   "cell_type": "code",
   "execution_count": 36,
   "metadata": {},
   "outputs": [],
   "source": [
    "# Load csv file\n",
    "cat = pd.read_csv(\"F:\\\\github\\\\doon_pet_survey\\\\cat_combine.csv\")\n"
   ]
  },
  {
   "cell_type": "code",
   "execution_count": 37,
   "metadata": {},
   "outputs": [],
   "source": [
    "tab = pd.crosstab(cat['cat_time_out'], cat['cat_hunt_yn'])\n",
    "obs = tab.values\n",
    "val = stats.chi2_contingency(tab)\n",
    "exp = val[3]\n"
   ]
  },
  {
   "cell_type": "code",
   "execution_count": 38,
   "metadata": {},
   "outputs": [],
   "source": [
    "norow = len(tab.iloc[0:2,0])\n",
    "nocol = len(tab.iloc[0,0:2])\n",
    "dof = (norow-1) * (nocol-1)\n",
    "alpha = 0.05"
   ]
  },
  {
   "cell_type": "code",
   "execution_count": 39,
   "metadata": {},
   "outputs": [
    {
     "data": {
      "text/plain": [
       "12.689253658378037"
      ]
     },
     "execution_count": 39,
     "metadata": {},
     "output_type": "execute_result"
    }
   ],
   "source": [
    "chi_sq = sum([(o-e)**2/e for o,e in zip(obs,exp)])\n",
    "chi_sq_st = chi_sq[0]+chi_sq[1]\n",
    "chi_sq_st"
   ]
  },
  {
   "cell_type": "code",
   "execution_count": 40,
   "metadata": {},
   "outputs": [
    {
     "data": {
      "text/plain": [
       "3.841458820694124"
      ]
     },
     "execution_count": 40,
     "metadata": {},
     "output_type": "execute_result"
    }
   ],
   "source": [
    "crit = chi2.ppf(q=1-alpha, df=dof)\n",
    "crit"
   ]
  },
  {
   "cell_type": "code",
   "execution_count": 41,
   "metadata": {},
   "outputs": [
    {
     "data": {
      "text/plain": [
       "0.00036776303002261646"
      ]
     },
     "execution_count": 41,
     "metadata": {},
     "output_type": "execute_result"
    }
   ],
   "source": [
    "pval = 1-chi2.cdf(x=chi_sq_st, df =dof)\n",
    "pval"
   ]
  },
  {
   "cell_type": "code",
   "execution_count": 42,
   "metadata": {},
   "outputs": [
    {
     "name": "stdout",
     "output_type": "stream",
     "text": [
      "reject h0, there is a relationship\n"
     ]
    }
   ],
   "source": [
    "if chi_sq_st >= crit:\n",
    "    print('reject h0, there is a relationship')\n",
    "else:\n",
    "    print('accept h0, there is no relationship')"
   ]
  }
 ],
 "metadata": {
  "kernelspec": {
   "display_name": "Python 3",
   "language": "python",
   "name": "python3"
  },
  "language_info": {
   "codemirror_mode": {
    "name": "ipython",
    "version": 3
   },
   "file_extension": ".py",
   "mimetype": "text/x-python",
   "name": "python",
   "nbconvert_exporter": "python",
   "pygments_lexer": "ipython3",
   "version": "3.12.3"
  }
 },
 "nbformat": 4,
 "nbformat_minor": 2
}
