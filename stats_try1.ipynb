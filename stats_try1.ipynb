{
 "cells": [
  {
   "cell_type": "code",
   "execution_count": 43,
   "metadata": {},
   "outputs": [],
   "source": [
    "import pandas as pd\n",
    "import numpy as np\n",
    "import scipy.stats as stats\n",
    "from scipy.stats import chi2"
   ]
  },
  {
   "cell_type": "code",
   "execution_count": 44,
   "metadata": {},
   "outputs": [],
   "source": [
    "# Load csv file\n",
    "cat = pd.read_csv(\"F:\\\\github\\\\doon_pet_survey\\\\cat_combine.csv\")\n",
    "cat_dep_var = ['cat_hunt_yn', 'cat_hunt_freq'] # Add cat_hunt\n",
    "cat_indep_var = ['cat_sex','cat_neutered','cat_describe'\n",
    "             'cat_age','cat_time',\n",
    "             'cat_time_out','cat_stay',\n",
    "             'cat_feed','cat_feed_freq'] # Add cat_feed\n",
    "dog = pd.read_csv(\"F:\\\\github\\\\doon_pet_survey\\\\dog_combine.csv\")\n",
    "dog_dep_var = ['dog_hunt_yn','dog_hunt_freq'] # Add dog_hunt\n",
    "dog_indep_var = ['dog_neutered', 'dog_sex', 'dog_age'] # Add dog_feed\n"
   ]
  },
  {
   "cell_type": "code",
   "execution_count": 72,
   "metadata": {},
   "outputs": [],
   "source": [
    "\n",
    "# function that runs chisq for two pandas series\n",
    "\n",
    "def run_chi2(df, s1, s2, alpha):\n",
    "    c_tab = pd.crosstab(df[s1],df[s2]) # Create contingency table\n",
    "    obs = c_tab.values # Observed values\n",
    "    vals = stats.chi2_contingency(c_tab) # Run Chi2 test of independence of variables\n",
    "    exp = vals[3] # Expected values\n",
    "    \n",
    "    norow = len(c_tab) # No of rows in c_tab\n",
    "    nocol = len(c_tab.columns) # No of cols in c_tab\n",
    "    dof = (norow-1) * (nocol-1) # Degree of freedom\n",
    "    \n",
    "    chi_sq = sum([(o-e)**2/e for o,e in zip(obs,exp)]).sum() # Find chi2 value\n",
    "    crit = chi2.ppf(q = 1-alpha, df=dof) # Find critical value using alpha and degree of freedom\n",
    "    \n",
    "    pval = 1-chi2.cdf(x=chi_sq, df =dof)\n",
    "    \n",
    "    # Print results\n",
    "    \n",
    "    print('This chi2 test is run for columns : ',\n",
    "          s1,' and ',s2)\n",
    "    \n",
    "    if chi_sq >= crit:\n",
    "        print('reject h0, there is a relationship', '\\n',\n",
    "              'chi2 value = ', chi_sq, '\\n',\n",
    "              'critical value = ', crit, '\\n')\n",
    "    else:\n",
    "        print('accept h0, there is no relationship', '\\n',\n",
    "              'chi2 value = ', chi_sq, '\\n',\n",
    "              'critical value = ', crit, '\\n')\n",
    "    if pval <= alpha:\n",
    "        print('reject h0, there is a relationship', '\\n',\n",
    "              'p value = ', pval)\n",
    "    else:\n",
    "        print('accept h0, there is no relationship', '\\n',\n",
    "              'p value = ', pval)\n",
    "    \n",
    "    "
   ]
  },
  {
   "cell_type": "code",
   "execution_count": 73,
   "metadata": {},
   "outputs": [
    {
     "name": "stdout",
     "output_type": "stream",
     "text": [
      "This chi2 test is run for columns :  cat_time_out  and  cat_hunt_yn\n",
      "accept h0, there is no relationship \n",
      " chi2 value =  15.60209045935345 \n",
      " critical value =  21.02606981748307 \n",
      "\n",
      "accept h0, there is no relationship \n",
      " p value =  0.2101480847149243\n"
     ]
    }
   ],
   "source": [
    "run_chi2(df= cat, s1='cat_time_out', s2='cat_hunt_yn', alpha = 0.05)"
   ]
  },
  {
   "cell_type": "code",
   "execution_count": 47,
   "metadata": {},
   "outputs": [],
   "source": [
    "tab = pd.crosstab(cat['cat_time_out'], cat['cat_hunt_yn'])\n",
    "obs = tab.values\n",
    "val = stats.chi2_contingency(tab)\n",
    "exp = val[3]\n"
   ]
  },
  {
   "cell_type": "code",
   "execution_count": 48,
   "metadata": {},
   "outputs": [
    {
     "name": "stdout",
     "output_type": "stream",
     "text": [
      "cat_hunt_yn         Have not observed  No  Yes\n",
      "cat_time_out                                  \n",
      "1-3 hours                           2   6   30\n",
      "3-5 hours                           1   4   11\n",
      "5-7 hours                           2   4   16\n",
      "7- 10 hours                         0   0    3\n",
      ">10 hours                           2   6   15\n",
      "Completely indoors                  0  14   13\n",
      "I don't know                        0   0    1 \n",
      " [[ 2  6 30]\n",
      " [ 1  4 11]\n",
      " [ 2  4 16]\n",
      " [ 0  0  3]\n",
      " [ 2  6 15]\n",
      " [ 0 14 13]\n",
      " [ 0  0  1]] \n",
      " Chi2ContingencyResult(statistic=15.60209045935345, pvalue=0.21014808471492433, dof=12, expected_freq=array([[ 2.04615385,  9.93846154, 26.01538462],\n",
      "       [ 0.86153846,  4.18461538, 10.95384615],\n",
      "       [ 1.18461538,  5.75384615, 15.06153846],\n",
      "       [ 0.16153846,  0.78461538,  2.05384615],\n",
      "       [ 1.23846154,  6.01538462, 15.74615385],\n",
      "       [ 1.45384615,  7.06153846, 18.48461538],\n",
      "       [ 0.05384615,  0.26153846,  0.68461538]])) \n",
      " [[ 2.04615385  9.93846154 26.01538462]\n",
      " [ 0.86153846  4.18461538 10.95384615]\n",
      " [ 1.18461538  5.75384615 15.06153846]\n",
      " [ 0.16153846  0.78461538  2.05384615]\n",
      " [ 1.23846154  6.01538462 15.74615385]\n",
      " [ 1.45384615  7.06153846 18.48461538]\n",
      " [ 0.05384615  0.26153846  0.68461538]]\n"
     ]
    }
   ],
   "source": [
    "print(tab,'\\n',\n",
    "      obs,'\\n',\n",
    "      val,'\\n',\n",
    "      exp)"
   ]
  },
  {
   "cell_type": "code",
   "execution_count": 62,
   "metadata": {},
   "outputs": [
    {
     "data": {
      "text/plain": [
       "12"
      ]
     },
     "execution_count": 62,
     "metadata": {},
     "output_type": "execute_result"
    }
   ],
   "source": [
    "norow = len(tab)\n",
    "nocol = len(tab.columns)\n",
    "dof = (norow-1) * (nocol-1)\n",
    "alpha = 0.05\n",
    "dof"
   ]
  },
  {
   "cell_type": "code",
   "execution_count": 63,
   "metadata": {},
   "outputs": [
    {
     "name": "stdout",
     "output_type": "stream",
     "text": [
      "[2.72203854 9.96721511 2.9128368 ] \n",
      " \n",
      " 15.60209045935345\n"
     ]
    }
   ],
   "source": [
    "chi_sq = sum([(o-e)**2/e for o,e in zip(obs,exp)])\n",
    "#chi_sq_st = chi_sq[0]+chi_sq[1]+chi_sq[2]\n",
    "\n",
    "chi_sq_st = chi_sq.sum()\n",
    "print(chi_sq, '\\n','\\n',chi_sq_st)\n"
   ]
  },
  {
   "cell_type": "code",
   "execution_count": 64,
   "metadata": {},
   "outputs": [
    {
     "data": {
      "text/plain": [
       "21.02606981748307"
      ]
     },
     "execution_count": 64,
     "metadata": {},
     "output_type": "execute_result"
    }
   ],
   "source": [
    "crit = chi2.ppf(q=1-alpha, df=dof)\n",
    "crit"
   ]
  },
  {
   "cell_type": "code",
   "execution_count": 65,
   "metadata": {},
   "outputs": [
    {
     "data": {
      "text/plain": [
       "0.2101480847149243"
      ]
     },
     "execution_count": 65,
     "metadata": {},
     "output_type": "execute_result"
    }
   ],
   "source": [
    "pval = 1 - chi2.cdf(x=chi_sq_st, df =dof)\n",
    "pval"
   ]
  },
  {
   "cell_type": "code",
   "execution_count": 66,
   "metadata": {},
   "outputs": [
    {
     "name": "stdout",
     "output_type": "stream",
     "text": [
      "accept h0, there is no relationship\n"
     ]
    }
   ],
   "source": [
    "if chi_sq_st >= crit:\n",
    "    print('reject h0, there is a relationship')\n",
    "else:\n",
    "    print('accept h0, there is no relationship')"
   ]
  }
 ],
 "metadata": {
  "kernelspec": {
   "display_name": "Python 3",
   "language": "python",
   "name": "python3"
  },
  "language_info": {
   "codemirror_mode": {
    "name": "ipython",
    "version": 3
   },
   "file_extension": ".py",
   "mimetype": "text/x-python",
   "name": "python",
   "nbconvert_exporter": "python",
   "pygments_lexer": "ipython3",
   "version": "3.12.3"
  }
 },
 "nbformat": 4,
 "nbformat_minor": 2
}
