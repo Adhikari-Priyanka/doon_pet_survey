{
 "cells": [
  {
   "cell_type": "code",
   "execution_count": 2,
   "metadata": {},
   "outputs": [],
   "source": [
    "import pandas as pd\n",
    "import numpy as np\n",
    "import scipy.stats as stats\n",
    "from scipy.stats import chi2\n",
    "import os"
   ]
  },
  {
   "cell_type": "code",
   "execution_count": 3,
   "metadata": {},
   "outputs": [],
   "source": [
    "# Load csv file\n",
    "cat = pd.read_csv(\"F:\\\\github\\\\doon_pet_survey\\\\cat_combine.csv\")\n",
    "cat_dep_var = ['cat_hunt_yn', 'cat_hunt_freq'] # Add cat_hunt\n",
    "cat_indep_var = ['cat_sex','cat_neutered','cat_describe',\n",
    "             'cat_age','cat_time',\n",
    "             'cat_time_out','cat_stay',\n",
    "             'cat_feed_freq'] # Add cat_feed\n",
    "dog = pd.read_csv(\"F:\\\\github\\\\doon_pet_survey\\\\dog_combine.csv\")\n",
    "dog_dep_var = ['dog_hunt_yn','dog_hunt_freq'] # Add dog_hunt\n",
    "dog_indep_var = ['dog_neutered', 'dog_sex', 'dog_age']"
   ]
  },
  {
   "cell_type": "code",
   "execution_count": 1,
   "metadata": {},
   "outputs": [],
   "source": [
    "\n",
    "# function that runs chisq for two pandas series\n",
    "\n",
    "def run_chi2(df, s1, s2, alpha):\n",
    "    \n",
    "    df1 = df.dropna()\n",
    "    \n",
    "    c_tab = pd.crosstab(df1[s1], df1[s2]) # Create contingency table\n",
    "    \n",
    "    obs = c_tab.values # Observed values\n",
    "    vals = stats.chi2_contingency(c_tab) # Run Chi2 test of independence of variables\n",
    "    exp = vals[3] # Expected values\n",
    "    \n",
    "    norow = len(c_tab) # No of rows in c_tab\n",
    "    nocol = len(c_tab.columns) # No of cols in c_tab\n",
    "    dof = (norow-1) * (nocol-1) # Degree of freedom\n",
    "    \n",
    "    chi_sq = sum([(o-e)**2/e for o,e in zip(obs,exp)]).sum() # Find chi2 value\n",
    "    crit = chi2.ppf(q = 1-alpha, df=dof) # Find critical value using alpha and degree of freedom\n",
    "    \n",
    "    pval = 1-chi2.cdf(x=chi_sq, df =dof)\n",
    "    \n",
    "    if chi_sq >= crit:\n",
    "          chi_sq_result = 'reject h0, there is a relationship'\n",
    "    else:\n",
    "        chi_sq_result = 'accept h0, there is no  relationship'\n",
    "    if pval <= alpha:\n",
    "        pval_result = 'reject h0, there is a relationship'\n",
    "    else:\n",
    "        pval_result = 'accept h0, there is no relationship'\n",
    "    \n",
    "    return f'{chi_sq_result} Chi square value = {chi_sq} and Critical value = {crit} {pval_result} as P value = {pval}\\n'\n",
    "    "
   ]
  },
  {
   "cell_type": "code",
   "execution_count": 4,
   "metadata": {},
   "outputs": [
    {
     "data": {
      "text/plain": [
       "'accept h0, there is no  relationship Chi square value = 0.0 and Critical value = nan accept h0, there is no relationship as P value = nan\\n'"
      ]
     },
     "execution_count": 4,
     "metadata": {},
     "output_type": "execute_result"
    }
   ],
   "source": [
    "res = run_chi2(df= cat, s1='cat_time_out', s2='cat_hunt_yn', alpha = 0.05)\n",
    "res"
   ]
  },
  {
   "cell_type": "code",
   "execution_count": null,
   "metadata": {},
   "outputs": [],
   "source": [
    "for dv in cat_dep_var:\n",
    "    for iv in cat_indep_var:\n",
    "        res = run_chi2(df= cat, s1=dv, s2=iv, alpha = 0.05)\n",
    "        print(res)"
   ]
  },
  {
   "cell_type": "code",
   "execution_count": null,
   "metadata": {},
   "outputs": [],
   "source": [
    "with open('chisq_test_cat.txt','w') as f:\n",
    "    for dv in cat_dep_var:\n",
    "        for iv in cat_indep_var:\n",
    "            res = run_chi2(df= cat, s1=dv, s2=iv, alpha = 0.05)\n",
    "            f.write(f'Result for {dv} and {iv}: \\n{res}\\n\\n')\n"
   ]
  },
  {
   "cell_type": "code",
   "execution_count": 5,
   "metadata": {},
   "outputs": [
    {
     "name": "stdout",
     "output_type": "stream",
     "text": [
      "'chisq_test2' already exists.\n"
     ]
    }
   ],
   "source": [
    "filename = 'chisq_test2'\n",
    "if not os.path.isfile(filename):\n",
    "    # If the file does not exist, create it\n",
    "    with open(filename, 'w') as file:\n",
    "        file.write('')  # Create an empty file\n",
    "    print(f\"'{filename}' has been created.\")\n",
    "else:\n",
    "    print(f\"'{filename}' already exists.\")"
   ]
  },
  {
   "cell_type": "code",
   "execution_count": 9,
   "metadata": {},
   "outputs": [
    {
     "data": {
      "text/html": [
       "<div>\n",
       "<style scoped>\n",
       "    .dataframe tbody tr th:only-of-type {\n",
       "        vertical-align: middle;\n",
       "    }\n",
       "\n",
       "    .dataframe tbody tr th {\n",
       "        vertical-align: top;\n",
       "    }\n",
       "\n",
       "    .dataframe thead th {\n",
       "        text-align: right;\n",
       "    }\n",
       "</style>\n",
       "<table border=\"1\" class=\"dataframe\">\n",
       "  <thead>\n",
       "    <tr style=\"text-align: right;\">\n",
       "      <th>cat_sex</th>\n",
       "      <th>Female</th>\n",
       "      <th>Male</th>\n",
       "    </tr>\n",
       "    <tr>\n",
       "      <th>cat_age</th>\n",
       "      <th></th>\n",
       "      <th></th>\n",
       "    </tr>\n",
       "  </thead>\n",
       "  <tbody>\n",
       "    <tr>\n",
       "      <th>Adult (3-6 years)</th>\n",
       "      <td>26</td>\n",
       "      <td>14</td>\n",
       "    </tr>\n",
       "    <tr>\n",
       "      <th>Junior (7 months - 2 years)</th>\n",
       "      <td>24</td>\n",
       "      <td>31</td>\n",
       "    </tr>\n",
       "    <tr>\n",
       "      <th>Kitten (0-6 months)</th>\n",
       "      <td>16</td>\n",
       "      <td>15</td>\n",
       "    </tr>\n",
       "    <tr>\n",
       "      <th>Mature (7-10 years)</th>\n",
       "      <td>3</td>\n",
       "      <td>0</td>\n",
       "    </tr>\n",
       "    <tr>\n",
       "      <th>Senior (11-14 years)</th>\n",
       "      <td>2</td>\n",
       "      <td>0</td>\n",
       "    </tr>\n",
       "  </tbody>\n",
       "</table>\n",
       "</div>"
      ],
      "text/plain": [
       "cat_sex                      Female  Male\n",
       "cat_age                                  \n",
       "Adult (3-6 years)                26    14\n",
       "Junior (7 months - 2 years)      24    31\n",
       "Kitten (0-6 months)              16    15\n",
       "Mature (7-10 years)               3     0\n",
       "Senior (11-14 years)              2     0"
      ]
     },
     "execution_count": 9,
     "metadata": {},
     "output_type": "execute_result"
    }
   ],
   "source": [
    "df=cat\n",
    "s1= 'cat_age'\n",
    "s2 = 'cat_sex'\n",
    "\n",
    "df1 = df.dropna()\n",
    "    \n",
    "c_tab = pd.crosstab(df[s1], df[s2]) # Create contingency table\n",
    "c_tab\n"
   ]
  }
 ],
 "metadata": {
  "kernelspec": {
   "display_name": "Python 3",
   "language": "python",
   "name": "python3"
  },
  "language_info": {
   "codemirror_mode": {
    "name": "ipython",
    "version": 3
   },
   "file_extension": ".py",
   "mimetype": "text/x-python",
   "name": "python",
   "nbconvert_exporter": "python",
   "pygments_lexer": "ipython3",
   "version": "3.12.3"
  }
 },
 "nbformat": 4,
 "nbformat_minor": 2
}
