{
 "cells": [
  {
   "cell_type": "code",
   "execution_count": 3,
   "metadata": {},
   "outputs": [],
   "source": [
    "import pandas as pd\n",
    "import numpy as np\n",
    "import scipy.stats as stats\n",
    "from scipy.stats import chi2\n",
    "import os\n",
    "\n",
    "## Change file path as needed!!!!\n",
    "wd = 'F:\\\\github\\\\doon_pet_survey_graphs\\\\'\n",
    "\n",
    "# Load csv files for cat and dog\n",
    "cat = pd.read_csv(\"F:\\\\github\\\\doon_pet_survey_graphs\\\\cat_combine.csv\")\n",
    "dog = pd.read_csv(\"F:\\\\github\\\\doon_pet_survey_graphs\\\\dog_combine.csv\")"
   ]
  },
  {
   "cell_type": "code",
   "execution_count": 4,
   "metadata": {},
   "outputs": [],
   "source": [
    "# Load csv file\n",
    "cat_dep_var = ['cat_hunt_yn_fix', 'cat_hunt_freq'] # Add cat_hunt\n",
    "cat_indep_var = ['cat_sex','cat_neutered','cat_describe',\n",
    "             'cat_age','cat_time',\n",
    "             'cat_time_out','cat_stay',\n",
    "             'cat_feed_freq'] # Add cat_feed\n",
    "dog_dep_var = ['dog_hunt_yn_fix','dog_hunt_freq'] # Add dog_hunt\n",
    "dog_indep_var = ['dog_neutered', 'dog_sex', 'dog_age']"
   ]
  },
  {
   "cell_type": "code",
   "execution_count": 5,
   "metadata": {},
   "outputs": [],
   "source": [
    "\n",
    "# function that runs chisq for two pandas series\n",
    "\n",
    "def run_chi2(df, s1, s2, alpha):\n",
    "    \n",
    "    df1 = df.dropna()\n",
    "    \n",
    "    c_tab = pd.crosstab(df1[s1], df1[s2]) # Create contingency table\n",
    "    \n",
    "    obs = c_tab.values # Observed values\n",
    "    vals = stats.chi2_contingency(c_tab) # Run Chi2 test of independence of variables\n",
    "    exp = vals[3] # Expected values\n",
    "    \n",
    "    norow = len(c_tab) # No of rows in c_tab\n",
    "    nocol = len(c_tab.columns) # No of cols in c_tab\n",
    "    dof = (norow-1) * (nocol-1) # Degree of freedom\n",
    "    \n",
    "    chi_sq = sum([(o-e)**2/e for o,e in zip(obs,exp)]).sum() # Find chi2 value\n",
    "    crit = chi2.ppf(q = 1-alpha, df=dof) # Find critical value using alpha and degree of freedom\n",
    "    \n",
    "    pval = 1-chi2.cdf(x=chi_sq, df =dof)\n",
    "    \n",
    "    if chi_sq >= crit:\n",
    "          chi_sq_result = 'reject h0, there is a relationship'\n",
    "    else:\n",
    "        chi_sq_result = 'accept h0, there is no  relationship'\n",
    "    if pval <= alpha:\n",
    "        pval_result = 'reject h0, there is a relationship'\n",
    "    else:\n",
    "        pval_result = 'accept h0, there is no relationship'\n",
    "    \n",
    "    return f'{chi_sq_result} Chi square value = {chi_sq} and Critical value = {crit} {pval_result} as P value = {pval}\\n'\n",
    "    "
   ]
  },
  {
   "cell_type": "code",
   "execution_count": null,
   "metadata": {},
   "outputs": [],
   "source": [
    "for dv in cat_dep_var:\n",
    "    for iv in cat_indep_var:\n",
    "        res = run_chi2(df= cat, s1=dv, s2=iv, alpha = 0.05)\n",
    "        print(res)"
   ]
  },
  {
   "cell_type": "code",
   "execution_count": null,
   "metadata": {},
   "outputs": [],
   "source": [
    "with open('chisq_test_cat.txt','w') as f:\n",
    "    for dv in cat_dep_var:\n",
    "        for iv in cat_indep_var:\n",
    "            res = run_chi2(df= cat, s1=dv, s2=iv, alpha = 0.05)\n",
    "            f.write(f'Result for {dv} and {iv}: \\n{res}\\n\\n')\n"
   ]
  },
  {
   "cell_type": "code",
   "execution_count": 5,
   "metadata": {},
   "outputs": [
    {
     "name": "stdout",
     "output_type": "stream",
     "text": [
      "'chisq_test2' already exists.\n"
     ]
    }
   ],
   "source": [
    "filename = 'chisq_test2'\n",
    "if not os.path.isfile(filename):\n",
    "    # If the file does not exist, create it\n",
    "    with open(filename, 'w') as file:\n",
    "        file.write('')  # Create an empty file\n",
    "    print(f\"'{filename}' has been created.\")\n",
    "else:\n",
    "    print(f\"'{filename}' already exists.\")"
   ]
  },
  {
   "cell_type": "code",
   "execution_count": 1,
   "metadata": {},
   "outputs": [],
   "source": [
    "cat_order_dict = {\n",
    "    'cat_age':['Kitten (0-6 months)','Junior (7 months - 2 years)', 'Adult (3-6 years)','Mature (>7 years)'],\n",
    "    'cat_sex' : ['Female', 'Male'] ,\n",
    "    'cat_neutered' : ['Neutered', 'Not neutered'],\n",
    "    'cat_describe' : [\"Indoor-outdoor cat (the cat wanders outside on its own, but you feed it and look after it when it is sick)\",'Completely indoor cat (always stays at home and does not go out on its own'],\n",
    "    'cat_feed_freq' : ['Once a day', 'Twice a day', 'Thrice a day', 'Continuous supply of food is available' ],\n",
    "    'cat_time_out': ['Completely indoors', '1-3 hours', '3-5 hours', '5-7 hours', '>7 hours'],\n",
    "    'cat_stay' : ['At home', 'Outside', 'Either at home or outside'],\n",
    "    'cat_hunt_yn': ['Yes', 'No'],\n",
    "    'cat_hunt_yn_fix': ['Yes', 'No'],\n",
    "    'cat_hunt_freq': ['Once a week', 'Once in 15 days', 'Once a month','Once every few months'], \n",
    "    'cat_time': ['<20 minutes', '20 minutes-1hour','1-2 hours','2-4 hours','>4 hours']\n",
    "    }\n",
    "dog_order_dict = {\n",
    "    'dog_age' : ['0-3 months', '3 months - 1 year','1-3 years','3-5 years','5-8 years','8 - 12 years','12 years and older'],\n",
    "    'dog_sex' : ['Female', 'Male'],\n",
    "    'dog_neutered' : ['Neutered', 'Not neutered'],\n",
    "    'dog_hunt_yn' : ['Yes', 'No', 'Have not observed'],\n",
    "    'dog_hunt_yn_fix': ['Yes', 'No'],\n",
    "    'dog_hunt_freq' : ['Few times a month','Once every few months']\n",
    "}"
   ]
  },
  {
   "cell_type": "code",
   "execution_count": 31,
   "metadata": {},
   "outputs": [
    {
     "data": {
      "text/html": [
       "<div>\n",
       "<style scoped>\n",
       "    .dataframe tbody tr th:only-of-type {\n",
       "        vertical-align: middle;\n",
       "    }\n",
       "\n",
       "    .dataframe tbody tr th {\n",
       "        vertical-align: top;\n",
       "    }\n",
       "\n",
       "    .dataframe thead th {\n",
       "        text-align: right;\n",
       "    }\n",
       "</style>\n",
       "<table border=\"1\" class=\"dataframe\">\n",
       "  <thead>\n",
       "    <tr style=\"text-align: right;\">\n",
       "      <th>cat_hunt_freq</th>\n",
       "      <th>Once a week</th>\n",
       "      <th>Once in 15 days</th>\n",
       "      <th>Once a month</th>\n",
       "      <th>Once every few months</th>\n",
       "    </tr>\n",
       "    <tr>\n",
       "      <th>cat_age</th>\n",
       "      <th></th>\n",
       "      <th></th>\n",
       "      <th></th>\n",
       "      <th></th>\n",
       "    </tr>\n",
       "  </thead>\n",
       "  <tbody>\n",
       "    <tr>\n",
       "      <th>Kitten (0-6 months)</th>\n",
       "      <td>3</td>\n",
       "      <td>6</td>\n",
       "      <td>2</td>\n",
       "      <td>1</td>\n",
       "    </tr>\n",
       "    <tr>\n",
       "      <th>Junior (7 months - 2 years)</th>\n",
       "      <td>3</td>\n",
       "      <td>8</td>\n",
       "      <td>6</td>\n",
       "      <td>14</td>\n",
       "    </tr>\n",
       "    <tr>\n",
       "      <th>Adult (3-6 years)</th>\n",
       "      <td>6</td>\n",
       "      <td>9</td>\n",
       "      <td>2</td>\n",
       "      <td>12</td>\n",
       "    </tr>\n",
       "    <tr>\n",
       "      <th>Mature (&gt;7 years)</th>\n",
       "      <td>0</td>\n",
       "      <td>0</td>\n",
       "      <td>1</td>\n",
       "      <td>0</td>\n",
       "    </tr>\n",
       "  </tbody>\n",
       "</table>\n",
       "</div>"
      ],
      "text/plain": [
       "cat_hunt_freq                Once a week  Once in 15 days  Once a month  \\\n",
       "cat_age                                                                   \n",
       "Kitten (0-6 months)                    3                6             2   \n",
       "Junior (7 months - 2 years)            3                8             6   \n",
       "Adult (3-6 years)                      6                9             2   \n",
       "Mature (>7 years)                      0                0             1   \n",
       "\n",
       "cat_hunt_freq                Once every few months  \n",
       "cat_age                                             \n",
       "Kitten (0-6 months)                              1  \n",
       "Junior (7 months - 2 years)                     14  \n",
       "Adult (3-6 years)                               12  \n",
       "Mature (>7 years)                                0  "
      ]
     },
     "execution_count": 31,
     "metadata": {},
     "output_type": "execute_result"
    }
   ],
   "source": [
    "df=cat\n",
    "s1= 'cat_age'\n",
    "s2 = 'cat_hunt_freq'\n",
    "df1 = df.dropna()\n",
    "c_tab = pd.crosstab(df[s1], df[s2])# Create contingency table\n",
    "c_tab.reindex(cat_order_dict[s1], columns=cat_order_dict[s2])"
   ]
  },
  {
   "cell_type": "code",
   "execution_count": 1,
   "metadata": {},
   "outputs": [
    {
     "ename": "NameError",
     "evalue": "name 'cat' is not defined",
     "output_type": "error",
     "traceback": [
      "\u001b[1;31m---------------------------------------------------------------------------\u001b[0m",
      "\u001b[1;31mNameError\u001b[0m                                 Traceback (most recent call last)",
      "Cell \u001b[1;32mIn[1], line 1\u001b[0m\n\u001b[1;32m----> 1\u001b[0m df\u001b[38;5;241m=\u001b[39m\u001b[43mcat\u001b[49m\n\u001b[0;32m      2\u001b[0m s1\u001b[38;5;241m=\u001b[39m \u001b[38;5;124m'\u001b[39m\u001b[38;5;124mcat_sex\u001b[39m\u001b[38;5;124m'\u001b[39m\n\u001b[0;32m      3\u001b[0m s2 \u001b[38;5;241m=\u001b[39m \u001b[38;5;124m'\u001b[39m\u001b[38;5;124mcat_hunt_freq\u001b[39m\u001b[38;5;124m'\u001b[39m\n",
      "\u001b[1;31mNameError\u001b[0m: name 'cat' is not defined"
     ]
    }
   ],
   "source": [
    "df=cat\n",
    "s1= 'cat_sex'\n",
    "s2 = 'cat_hunt_freq'\n",
    "df1 = df.dropna()\n",
    "c_tab = pd.crosstab(df[s1], df[s2])# Create contingency table\n",
    "c_tab.reindex(cat_order_dict[s1], columns=cat_order_dict[s2])"
   ]
  },
  {
   "cell_type": "code",
   "execution_count": 7,
   "metadata": {},
   "outputs": [
    {
     "name": "stdout",
     "output_type": "stream",
     "text": [
      "'F:\\github\\doon_pet_survey_graphs\\contingency tables_3.txt' has been created.\n"
     ]
    }
   ],
   "source": [
    "filename = f'{wd}contingency tables_3.txt'\n",
    "if not os.path.isfile(filename):\n",
    "    # If the file does not exist, create it\n",
    "    with open(filename, 'w') as file:\n",
    "        file.write('')  # Create an empty file\n",
    "    print(f\"'{filename}' has been created.\")\n",
    "else:\n",
    "    print(f\"'{filename}' already exists.\")\n",
    "\n",
    "with open(filename,'w') as f: # Open the file\n",
    "    for dv in cat_dep_var:\n",
    "        for iv in cat_indep_var:\n",
    "            res = pd.crosstab(cat[dv],cat[iv]\n",
    "                              ).reindex(cat_order_dict[dv], columns=cat_order_dict[iv]) \n",
    "            f.write(f'CAT Contingency table for {dv} and {iv}: \\n{res}\\n\\n')\n",
    "    for dv in dog_dep_var:\n",
    "        for iv in dog_indep_var:\n",
    "            res = pd.crosstab(dog[dv],dog[iv]\n",
    "                              ).reindex(dog_order_dict[dv], columns=dog_order_dict[iv]) \n",
    "            f.write(f'DOG Contingency table for {dv} and {iv}: \\n{res}\\n\\n')\n"
   ]
  },
  {
   "cell_type": "code",
   "execution_count": 6,
   "metadata": {},
   "outputs": [
    {
     "data": {
      "text/plain": [
       "['Kitten (0-6 months)',\n",
       " 'Junior (7 months - 2 years)',\n",
       " 'Adult (3-6 years)',\n",
       " 'Mature (>7 years)']"
      ]
     },
     "execution_count": 6,
     "metadata": {},
     "output_type": "execute_result"
    }
   ],
   "source": [
    "cat_order_dict['cat_age']"
   ]
  }
 ],
 "metadata": {
  "kernelspec": {
   "display_name": "Python 3",
   "language": "python",
   "name": "python3"
  },
  "language_info": {
   "codemirror_mode": {
    "name": "ipython",
    "version": 3
   },
   "file_extension": ".py",
   "mimetype": "text/x-python",
   "name": "python",
   "nbconvert_exporter": "python",
   "pygments_lexer": "ipython3",
   "version": "3.12.3"
  }
 },
 "nbformat": 4,
 "nbformat_minor": 2
}
