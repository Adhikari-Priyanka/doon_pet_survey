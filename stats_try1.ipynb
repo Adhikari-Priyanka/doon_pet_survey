{
 "cells": [
  {
   "cell_type": "code",
   "execution_count": 2,
   "metadata": {},
   "outputs": [],
   "source": [
    "import pandas as pd\n",
    "import numpy as np\n",
    "import scipy.stats as stats\n",
    "from scipy.stats import chi2\n",
    "import os"
   ]
  },
  {
   "cell_type": "code",
   "execution_count": null,
   "metadata": {},
   "outputs": [],
   "source": [
    "# Load csv file\n",
    "cat = pd.read_csv(\"F:\\\\github\\\\doon_pet_survey\\\\cat_combine.csv\")\n",
    "cat_dep_var = ['cat_hunt_yn', 'cat_hunt_freq'] # Add cat_hunt\n",
    "cat_indep_var = ['cat_sex','cat_neutered','cat_describe',\n",
    "             'cat_age','cat_time',\n",
    "             'cat_time_out','cat_stay',\n",
    "             'cat_feed_freq'] # Add cat_feed\n",
    "dog = pd.read_csv(\"F:\\\\github\\\\doon_pet_survey\\\\dog_combine.csv\")\n",
    "dog_dep_var = ['dog_hunt_yn','dog_hunt_freq'] # Add dog_hunt\n",
    "dog_indep_var = ['dog_neutered', 'dog_sex', 'dog_age']"
   ]
  },
  {
   "cell_type": "code",
   "execution_count": null,
   "metadata": {},
   "outputs": [],
   "source": [
    "\n",
    "# function that runs chisq for two pandas series\n",
    "\n",
    "def run_chi2(df, s1, s2, alpha):\n",
    "    c_tab = pd.crosstab(df[s1],df[s2]) # Create contingency table\n",
    "    obs = c_tab.values # Observed values\n",
    "    vals = stats.chi2_contingency(c_tab) # Run Chi2 test of independence of variables\n",
    "    exp = vals[3] # Expected values\n",
    "    \n",
    "    norow = len(c_tab) # No of rows in c_tab\n",
    "    nocol = len(c_tab.columns) # No of cols in c_tab\n",
    "    dof = (norow-1) * (nocol-1) # Degree of freedom\n",
    "    \n",
    "    chi_sq = sum([(o-e)**2/e for o,e in zip(obs,exp)]).sum() # Find chi2 value\n",
    "    crit = chi2.ppf(q = 1-alpha, df=dof) # Find critical value using alpha and degree of freedom\n",
    "    \n",
    "    pval = 1-chi2.cdf(x=chi_sq, df =dof)\n",
    "    \n",
    "    if chi_sq >= crit:\n",
    "          chi_sq_result = 'reject h0, there is a relationship'\n",
    "    else:\n",
    "        chi_sq_result = 'accept h0, there is no  relationship'\n",
    "    if pval <= alpha:\n",
    "        pval_result = 'reject h0, there is a relationship'\n",
    "    else:\n",
    "        pval_result = 'accept h0, there is no relationship'\n",
    "    \n",
    "    return f'{chi_sq_result} Chi square value = {chi_sq} and Critical value = {crit} {pval_result} as P value = {pval}\\n'\n",
    "    "
   ]
  },
  {
   "cell_type": "code",
   "execution_count": null,
   "metadata": {},
   "outputs": [],
   "source": [
    "run_chi2(df= cat, s1='cat_time_out', s2='cat_hunt_yn', alpha = 0.05)"
   ]
  },
  {
   "cell_type": "code",
   "execution_count": null,
   "metadata": {},
   "outputs": [],
   "source": [
    "for dv in cat_dep_var:\n",
    "    for iv in cat_indep_var:\n",
    "        res = run_chi2(df= cat, s1=dv, s2=iv, alpha = 0.05)\n",
    "        print(res)"
   ]
  },
  {
   "cell_type": "code",
   "execution_count": null,
   "metadata": {},
   "outputs": [],
   "source": [
    "with open('chisq_test_cat.txt','w') as f:\n",
    "    for dv in cat_dep_var:\n",
    "        for iv in cat_indep_var:\n",
    "            res = run_chi2(df= cat, s1=dv, s2=iv, alpha = 0.05)\n",
    "            f.write(f'Result for {dv} and {iv}: \\n{res}\\n\\n')\n"
   ]
  },
  {
   "cell_type": "code",
   "execution_count": 5,
   "metadata": {},
   "outputs": [
    {
     "name": "stdout",
     "output_type": "stream",
     "text": [
      "'chisq_test2' already exists.\n"
     ]
    }
   ],
   "source": [
    "filename = 'chisq_test2'\n",
    "if not os.path.isfile(filename):\n",
    "    # If the file does not exist, create it\n",
    "    with open(filename, 'w') as file:\n",
    "        file.write('')  # Create an empty file\n",
    "    print(f\"'{filename}' has been created.\")\n",
    "else:\n",
    "    print(f\"'{filename}' already exists.\")"
   ]
  }
 ],
 "metadata": {
  "kernelspec": {
   "display_name": "Python 3",
   "language": "python",
   "name": "python3"
  },
  "language_info": {
   "codemirror_mode": {
    "name": "ipython",
    "version": 3
   },
   "file_extension": ".py",
   "mimetype": "text/x-python",
   "name": "python",
   "nbconvert_exporter": "python",
   "pygments_lexer": "ipython3",
   "version": "3.12.3"
  }
 },
 "nbformat": 4,
 "nbformat_minor": 2
}
