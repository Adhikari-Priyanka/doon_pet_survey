{
 "cells": [
  {
   "cell_type": "code",
   "execution_count": 1,
   "metadata": {},
   "outputs": [],
   "source": [
    "import pandas as pd\n",
    "import numpy as np\n",
    "import scipy.stats as stats\n",
    "from scipy.stats import chi2\n",
    "import os\n",
    "# Load csv file\n",
    "cat = pd.read_csv(\"F:\\\\github\\\\doon_pet_survey_graphs\\\\cat_combine.csv\")"
   ]
  },
  {
   "cell_type": "code",
   "execution_count": 2,
   "metadata": {},
   "outputs": [],
   "source": [
    "cat_order_dict = {\n",
    "    'cat_age':['Kitten (0-6 months)','Junior (7 months - 2 years)', 'Adult (3-6 years)','Mature (7-10 years)', 'Senior (11-14 years)'],\n",
    "    'cat_sex' : ['Female', 'Male'] ,\n",
    "    'cat_neutered' : ['Neutered', 'Not neutered'],\n",
    "    'cat_describe' : [\"Indoor-outdoor cat (the cat wanders outside on its own, but you feed it and look after it when it is sick)\",'Completely indoor cat (always stays at home and does not go out on its own'],\n",
    "    'cat_feed_freq' : ['Continuous supply of food is available', 'Thrice a day', 'Twice a day', 'Once a day'],\n",
    "    'cat_time_out': ['1-3 hours', '3-5 hours', '5-7 hours', '7- 10 hours', '>10 hours', 'Completely indoors',\"I don't know\"],\n",
    "    'cat_stay' : ['At home', 'Outside', 'Either at home or outside'],\n",
    "    'cat_hunt_yn': ['Yes', 'No', 'Have not observed'],\n",
    "    'cat_hunt_freq': ['Once every few months', 'Once a month', 'Once in 15 days', 'Once a week', 'Every day'], ## opposite\n",
    "    'cat_time': ['None at all', '10-20 minutes', '20-40 minutes','40 minutes-1 hour','1-2 hours','2-4 hours','>4 hours']\n",
    "    }"
   ]
  },
  {
   "cell_type": "code",
   "execution_count": 12,
   "metadata": {},
   "outputs": [
    {
     "data": {
      "text/plain": [
       "[cat_hunt_yn                  No  Yes\n",
       " cat_age                             \n",
       " Kitten (0-6 months)           6   27\n",
       " Junior (7 months - 2 years)  23   32\n",
       " Adult (3-6 years)             9   32\n",
       " Mature (7-10 years)           2    0\n",
       " Senior (11-14 years)          1    1,\n",
       " cat_hunt_yn                  No  Yes\n",
       " cat_age                             \n",
       " Kitten (0-6 months)           6   27\n",
       " Junior (7 months - 2 years)  23   32\n",
       " Adult (3-6 years)             9   32\n",
       " Mature (7-10 years)           2    0\n",
       " Senior (11-14 years)          1    1]"
      ]
     },
     "execution_count": 12,
     "metadata": {},
     "output_type": "execute_result"
    }
   ],
   "source": [
    "iv= 'cat_age'\n",
    "dv='cat_hunt_yn'\n",
    "df=cat[['cat_age', 'cat_hunt_yn']]\n",
    "df1 = df.dropna()\n",
    "c_tab = pd.crosstab(df1[iv],df1[dv]).reindex(cat_order_dict[iv]) \n",
    "# Create contingency table\n",
    "#print(c_tab)\n",
    "\n",
    "iv1= 'cat_sex'\n",
    "dv1='cat_hunt_yn'\n",
    "df1=cat[['cat_age', 'cat_hunt_yn']]\n",
    "df2 = df.dropna()\n",
    "c_tab1 = pd.crosstab(df2[iv],df2[dv]).reindex(cat_order_dict[iv]) \n",
    "# Create contingency table\n",
    "#print(c_tab1)\n",
    "\n",
    "li = [c_tab, c_tab1]\n",
    "li"
   ]
  },
  {
   "cell_type": "code",
   "execution_count": null,
   "metadata": {},
   "outputs": [],
   "source": [
    "cat = pd.read_csv(\"F:\\\\github\\\\doon_pet_survey\\\\cat_combine.csv\")\n",
    "# Define independent and dependent variables\n",
    "cat_dep_var = ['cat_hunt_yn', 'cat_hunt_freq'] # Add cat_hunt later\n",
    "cat_indep_var = ['cat_sex','cat_neutered','cat_describe',\n",
    "             'cat_age','cat_time',\n",
    "             'cat_time_out','cat_stay',\n",
    "             'cat_feed_freq'] # Add cat_feed later\n",
    "\n",
    "dog = pd.read_csv(\"F:\\\\github\\\\doon_pet_survey\\\\dog_combine.csv\")\n",
    "dog_dep_var = ['dog_hunt_yn','dog_hunt_freq'] # Add dog_hunt later\n",
    "dog_indep_var = ['dog_neutered', 'dog_sex', 'dog_age']\n"
   ]
  },
  {
   "cell_type": "code",
   "execution_count": null,
   "metadata": {},
   "outputs": [],
   "source": [
    "filename = 'contingency tables.txt'\n",
    "if not os.path.isfile(filename):\n",
    "    # If the file does not exist, create it\n",
    "    with open(filename, 'w') as file:\n",
    "        file.write('')  # Create an empty file\n",
    "    print(f\"'{filename}' has been created.\")\n",
    "else:\n",
    "    print(f\"'{filename}' already exists.\")\n",
    "\n",
    "with open(filename,'w') as f:\n",
    "    for dv in cat_dep_var:\n",
    "        for iv in cat_indep_var:\n",
    "            res = pd.crosstab(cat[dv],cat[iv])\n",
    "            f.write(f'CAT Contingency table for {dv} and {iv}: \\n{res}\\n\\n')\n",
    "    for dv in dog_dep_var:\n",
    "        for iv in dog_indep_var:\n",
    "            res = pd.crosstab(dog[dv],dog[iv])\n",
    "            f.write(f'DOG Contingency table for {dv} and {iv}: \\n{res}\\n\\n')\n",
    "\n",
    "\n"
   ]
  },
  {
   "cell_type": "code",
   "execution_count": null,
   "metadata": {},
   "outputs": [],
   "source": [
    "cat_order_dict = {\n",
    "    'cat_age':['Kitten (0-6 months)','Junior (7 months - 2 years)', 'Adult (3-6 years)','Mature (7-10 years)', 'Senior (11-14 years)'],\n",
    "    'cat_sex' : ['Female', 'Male'] ,\n",
    "    'cat_neutered' : ['Neutered', 'Not neutered'],\n",
    "    'cat_describe' : [\"Indoor-outdoor cat (the cat wanders outside on its own, but you feed it and look after it when it is sick)\",'Completely indoor cat (always stays at home and does not go out on its own'],\n",
    "    'cat_feed_freq' : ['Continuous supply of food is available', 'Thrice a day', 'Twice a day', 'Once a day'],\n",
    "    'cat_time_out': ['1-3 hours', '3-5 hours', '5-7 hours', '7- 10 hours', '>10 hours', 'Completely indoors',\"I don't know\"],\n",
    "    'cat_stay' : ['At home', 'Outside', 'Either at home or outside'],\n",
    "    'cat_hunt_yn': ['Yes', 'No', 'Have not observed'],\n",
    "    'cat_hunt_freq': ['Once every few months', 'Once a month', 'Once in 15 days', 'Once a week', 'Every day'], ## opposite\n",
    "    'cat_time': ['None at all', '10-20 minutes', '20-40 minutes','40 minutes-1 hour','1-2 hours','2-4 hours','>4 hours']\n",
    "    }"
   ]
  }
 ],
 "metadata": {
  "kernelspec": {
   "display_name": "Python 3",
   "language": "python",
   "name": "python3"
  },
  "language_info": {
   "codemirror_mode": {
    "name": "ipython",
    "version": 3
   },
   "file_extension": ".py",
   "mimetype": "text/x-python",
   "name": "python",
   "nbconvert_exporter": "python",
   "pygments_lexer": "ipython3",
   "version": "3.12.3"
  }
 },
 "nbformat": 4,
 "nbformat_minor": 2
}
