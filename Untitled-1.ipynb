{
 "cells": [
  {
   "cell_type": "code",
   "execution_count": 1,
   "metadata": {},
   "outputs": [
    {
     "name": "stderr",
     "output_type": "stream",
     "text": [
      "C:\\Users\\priya\\AppData\\Local\\Temp\\ipykernel_14424\\2904304211.py:10: SettingWithCopyWarning: \n",
      "A value is trying to be set on a copy of a slice from a DataFrame.\n",
      "Try using .loc[row_indexer,col_indexer] = value instead\n",
      "\n",
      "See the caveats in the documentation: https://pandas.pydata.org/pandas-docs/stable/user_guide/indexing.html#returning-a-view-versus-a-copy\n",
      "  df['cat_hunt_fix'] = df['cat_hunt'].str.split(';')\n",
      "C:\\Users\\priya\\AppData\\Local\\Temp\\ipykernel_14424\\2904304211.py:14: SettingWithCopyWarning: \n",
      "A value is trying to be set on a copy of a slice from a DataFrame.\n",
      "Try using .loc[row_indexer,col_indexer] = value instead\n",
      "\n",
      "See the caveats in the documentation: https://pandas.pydata.org/pandas-docs/stable/user_guide/indexing.html#returning-a-view-versus-a-copy\n",
      "  df3['cat_feed_fix'] = df3['cat_feed'].str.split(';')\n"
     ]
    }
   ],
   "source": [
    "import pandas as pd\n",
    "import numpy as np\n",
    "import scipy.stats as stats\n",
    "from scipy.stats import chi2\n",
    "import os\n",
    "\n",
    "# Load csv file\n",
    "cat = pd.read_csv(\"F:\\\\github\\\\doon_pet_survey\\\\cat_combine.csv\")\n",
    "df = cat[['cat_hunt','cat_feed']]\n",
    "df['cat_hunt_fix'] = df['cat_hunt'].str.split(';')\n",
    "df2 = df.explode('cat_hunt_fix').reset_index(drop=True)\n",
    "df3 = df2[df2['cat_hunt_fix']!='']\n",
    "\n",
    "df3['cat_feed_fix'] = df3['cat_feed'].str.split(';')\n",
    "df4 = df3.explode('cat_feed_fix').reset_index(drop=True)\n",
    "df5 = df4[df4['cat_feed_fix']!='']\n",
    "\n",
    "df5 = df5.dropna()\n",
    "\n",
    "df5['cat_feed_fix'] = df5['cat_feed_fix'].str.split('(').str.get(0).str.strip()\n",
    "df5['cat_hunt_fix'] = df5['cat_hunt_fix'].str.split('(').str.get(0).str.strip()\n",
    "\n",
    "print(df5['cat_feed_fix'].unique())\n",
    "print(df5['cat_hunt_fix'].unique())"
   ]
  },
  {
   "cell_type": "code",
   "execution_count": 7,
   "metadata": {},
   "outputs": [],
   "source": [
    "alpha = 0.05\n",
    "c_tab = pd.crosstab(df5['cat_feed_fix'],df5['cat_hunt_fix']) # Create contingency table\n",
    "obs = c_tab.values # Observed values\n",
    "vals = stats.chi2_contingency(c_tab) # Run Chi2 test of independence of variables\n",
    "exp = vals[3] # Expected values\n",
    "\n",
    "norow = len(c_tab) # No of rows in c_tab\n",
    "nocol = len(c_tab.columns) # No of cols in c_tab\n",
    "dof = (norow-1) * (nocol-1) # Degree of freedom\n",
    "\n",
    "chi_sq = sum([(o-e)**2/e for o,e in zip(obs,exp)]).sum() # Find chi2 value\n",
    "crit = chi2.ppf(q = 1-alpha, df=dof) # Find critical value using alpha and degree of freedom\n",
    "    \n",
    "pval = 1-chi2.cdf(x=chi_sq, df =dof) # Find P value\n",
    "\n",
    "if chi_sq >= crit:\n",
    "    chi_sq_result = 'reject h0, there is a relationship'\n",
    "else:\n",
    "    chi_sq_result = 'accept h0, there is no  relationship'\n",
    "if pval <= alpha:\n",
    "    pval_result = 'reject h0, there is a relationship'\n",
    "else:\n",
    "    pval_result = 'accept h0, there is no relationship'\n",
    "    \n",
    "# Return results and variables as string \n",
    "print(f'{chi_sq_result} Chi square value = {chi_sq} and Critical value = {crit} {pval_result} as P value = {pval}\\n')\n",
    "\n"
   ]
  },
  {
   "cell_type": "code",
   "execution_count": 1,
   "metadata": {},
   "outputs": [],
   "source": [
    "import pandas as pd\n",
    "import numpy as np\n",
    "import scipy.stats as stats\n",
    "from scipy.stats import chi2\n",
    "import os\n",
    "\n",
    "# Load csv file\n",
    "cat = pd.read_csv(\"F:\\\\github\\\\doon_pet_survey\\\\cat_combine.csv\")"
   ]
  },
  {
   "cell_type": "code",
   "execution_count": 22,
   "metadata": {},
   "outputs": [
    {
     "data": {
      "text/html": [
       "<div>\n",
       "<style scoped>\n",
       "    .dataframe tbody tr th:only-of-type {\n",
       "        vertical-align: middle;\n",
       "    }\n",
       "\n",
       "    .dataframe tbody tr th {\n",
       "        vertical-align: top;\n",
       "    }\n",
       "\n",
       "    .dataframe thead th {\n",
       "        text-align: right;\n",
       "    }\n",
       "</style>\n",
       "<table border=\"1\" class=\"dataframe\">\n",
       "  <thead>\n",
       "    <tr style=\"text-align: right;\">\n",
       "      <th>cat_hunt_yn</th>\n",
       "      <th>Have not observed</th>\n",
       "      <th>No</th>\n",
       "      <th>Yes</th>\n",
       "    </tr>\n",
       "    <tr>\n",
       "      <th>cat_age</th>\n",
       "      <th></th>\n",
       "      <th></th>\n",
       "      <th></th>\n",
       "    </tr>\n",
       "  </thead>\n",
       "  <tbody>\n",
       "    <tr>\n",
       "      <th>Adult (3-6 years)</th>\n",
       "      <td>1</td>\n",
       "      <td>8</td>\n",
       "      <td>32</td>\n",
       "    </tr>\n",
       "    <tr>\n",
       "      <th>Junior (7 months - 2 years)</th>\n",
       "      <td>6</td>\n",
       "      <td>17</td>\n",
       "      <td>32</td>\n",
       "    </tr>\n",
       "    <tr>\n",
       "      <th>Kitten (0-6 months)</th>\n",
       "      <td>0</td>\n",
       "      <td>6</td>\n",
       "      <td>28</td>\n",
       "    </tr>\n",
       "    <tr>\n",
       "      <th>Mature (7-10 years)</th>\n",
       "      <td>0</td>\n",
       "      <td>2</td>\n",
       "      <td>0</td>\n",
       "    </tr>\n",
       "    <tr>\n",
       "      <th>Senior (11-14 years)</th>\n",
       "      <td>0</td>\n",
       "      <td>1</td>\n",
       "      <td>1</td>\n",
       "    </tr>\n",
       "  </tbody>\n",
       "</table>\n",
       "</div>"
      ],
      "text/plain": [
       "cat_hunt_yn                  Have not observed  No  Yes\n",
       "cat_age                                                \n",
       "Adult (3-6 years)                            1   8   32\n",
       "Junior (7 months - 2 years)                  6  17   32\n",
       "Kitten (0-6 months)                          0   6   28\n",
       "Mature (7-10 years)                          0   2    0\n",
       "Senior (11-14 years)                         0   1    1"
      ]
     },
     "execution_count": 22,
     "metadata": {},
     "output_type": "execute_result"
    }
   ],
   "source": [
    "df=cat[['cat_age', 'cat_hunt_yn']]\n",
    "df1 = df.dropna()\n",
    "c_tab = pd.crosstab(df1['cat_age'],df1['cat_hunt_yn']) # Create contingency table\n",
    "c_tab"
   ]
  },
  {
   "cell_type": "code",
   "execution_count": 18,
   "metadata": {},
   "outputs": [],
   "source": [
    "cat = pd.read_csv(\"F:\\\\github\\\\doon_pet_survey\\\\cat_combine.csv\")\n",
    "# Define independent and dependent variables\n",
    "cat_dep_var = ['cat_hunt_yn', 'cat_hunt_freq'] # Add cat_hunt later\n",
    "cat_indep_var = ['cat_sex','cat_neutered','cat_describe',\n",
    "             'cat_age','cat_time',\n",
    "             'cat_time_out','cat_stay',\n",
    "             'cat_feed_freq'] # Add cat_feed later\n",
    "\n",
    "dog = pd.read_csv(\"F:\\\\github\\\\doon_pet_survey\\\\dog_combine.csv\")\n",
    "dog_dep_var = ['dog_hunt_yn','dog_hunt_freq'] # Add dog_hunt later\n",
    "dog_indep_var = ['dog_neutered', 'dog_sex', 'dog_age']\n"
   ]
  },
  {
   "cell_type": "code",
   "execution_count": 23,
   "metadata": {},
   "outputs": [
    {
     "name": "stdout",
     "output_type": "stream",
     "text": [
      "'contingency tables.txt' already exists.\n"
     ]
    }
   ],
   "source": [
    "filename = 'contingency tables.txt'\n",
    "if not os.path.isfile(filename):\n",
    "    # If the file does not exist, create it\n",
    "    with open(filename, 'w') as file:\n",
    "        file.write('')  # Create an empty file\n",
    "    print(f\"'{filename}' has been created.\")\n",
    "else:\n",
    "    print(f\"'{filename}' already exists.\")\n",
    "\n",
    "with open(filename,'w') as f:\n",
    "    for dv in cat_dep_var:\n",
    "        for iv in cat_indep_var:\n",
    "            res = pd.crosstab(cat[dv],cat[iv])\n",
    "            f.write(f'CAT Contingency table for {dv} and {iv}: \\n{res}\\n\\n')\n",
    "    for dv in dog_dep_var:\n",
    "        for iv in dog_indep_var:\n",
    "            res = pd.crosstab(dog[dv],dog[iv])\n",
    "            f.write(f'DOG Contingency table for {dv} and {iv}: \\n{res}\\n\\n')\n",
    "\n",
    "\n"
   ]
  }
 ],
 "metadata": {
  "kernelspec": {
   "display_name": "Python 3",
   "language": "python",
   "name": "python3"
  },
  "language_info": {
   "codemirror_mode": {
    "name": "ipython",
    "version": 3
   },
   "file_extension": ".py",
   "mimetype": "text/x-python",
   "name": "python",
   "nbconvert_exporter": "python",
   "pygments_lexer": "ipython3",
   "version": "3.12.3"
  }
 },
 "nbformat": 4,
 "nbformat_minor": 2
}
