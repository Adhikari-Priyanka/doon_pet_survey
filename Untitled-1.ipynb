{
 "cells": [
  {
   "cell_type": "code",
   "execution_count": 1,
   "metadata": {},
   "outputs": [
    {
     "name": "stderr",
     "output_type": "stream",
     "text": [
      "C:\\Users\\priya\\AppData\\Local\\Temp\\ipykernel_14424\\2904304211.py:10: SettingWithCopyWarning: \n",
      "A value is trying to be set on a copy of a slice from a DataFrame.\n",
      "Try using .loc[row_indexer,col_indexer] = value instead\n",
      "\n",
      "See the caveats in the documentation: https://pandas.pydata.org/pandas-docs/stable/user_guide/indexing.html#returning-a-view-versus-a-copy\n",
      "  df['cat_hunt_fix'] = df['cat_hunt'].str.split(';')\n",
      "C:\\Users\\priya\\AppData\\Local\\Temp\\ipykernel_14424\\2904304211.py:14: SettingWithCopyWarning: \n",
      "A value is trying to be set on a copy of a slice from a DataFrame.\n",
      "Try using .loc[row_indexer,col_indexer] = value instead\n",
      "\n",
      "See the caveats in the documentation: https://pandas.pydata.org/pandas-docs/stable/user_guide/indexing.html#returning-a-view-versus-a-copy\n",
      "  df3['cat_feed_fix'] = df3['cat_feed'].str.split(';')\n"
     ]
    }
   ],
   "source": [
    "import pandas as pd\n",
    "import numpy as np\n",
    "import scipy.stats as stats\n",
    "from scipy.stats import chi2\n",
    "import os\n",
    "\n",
    "# Load csv file\n",
    "cat = pd.read_csv(\"F:\\\\github\\\\doon_pet_survey\\\\cat_combine.csv\")\n",
    "df = cat[['cat_hunt','cat_feed']]\n",
    "df['cat_hunt_fix'] = df['cat_hunt'].str.split(';')\n",
    "df2 = df.explode('cat_hunt_fix').reset_index(drop=True)\n",
    "df3 = df2[df2['cat_hunt_fix']!='']\n",
    "\n",
    "df3['cat_feed_fix'] = df3['cat_feed'].str.split(';')\n",
    "df4 = df3.explode('cat_feed_fix').reset_index(drop=True)\n",
    "df5 = df4[df4['cat_feed_fix']!='']\n",
    "\n",
    "df5 = df5.dropna()\n",
    "\n",
    "df5['cat_feed_fix'] = df5['cat_feed_fix'].str.split('(').str.get(0).str.strip()\n",
    "df5['cat_hunt_fix'] = df5['cat_hunt_fix'].str.split('(').str.get(0).str.strip()\n",
    "\n",
    "print(df5['cat_feed_fix'].unique())\n",
    "print(df5['cat_hunt_fix'].unique())"
   ]
  },
  {
   "cell_type": "code",
   "execution_count": 7,
   "metadata": {},
   "outputs": [],
   "source": [
    "alpha = 0.05\n",
    "c_tab = pd.crosstab(df5['cat_feed_fix'],df5['cat_hunt_fix']) # Create contingency table\n",
    "obs = c_tab.values # Observed values\n",
    "vals = stats.chi2_contingency(c_tab) # Run Chi2 test of independence of variables\n",
    "exp = vals[3] # Expected values\n",
    "\n",
    "norow = len(c_tab) # No of rows in c_tab\n",
    "nocol = len(c_tab.columns) # No of cols in c_tab\n",
    "dof = (norow-1) * (nocol-1) # Degree of freedom\n",
    "\n",
    "chi_sq = sum([(o-e)**2/e for o,e in zip(obs,exp)]).sum() # Find chi2 value\n",
    "crit = chi2.ppf(q = 1-alpha, df=dof) # Find critical value using alpha and degree of freedom\n",
    "    \n",
    "pval = 1-chi2.cdf(x=chi_sq, df =dof) # Find P value\n",
    "\n",
    "if chi_sq >= crit:\n",
    "    chi_sq_result = 'reject h0, there is a relationship'\n",
    "else:\n",
    "    chi_sq_result = 'accept h0, there is no  relationship'\n",
    "if pval <= alpha:\n",
    "    pval_result = 'reject h0, there is a relationship'\n",
    "else:\n",
    "    pval_result = 'accept h0, there is no relationship'\n",
    "    \n",
    "# Return results and variables as string \n",
    "print(f'{chi_sq_result} Chi square value = {chi_sq} and Critical value = {crit} {pval_result} as P value = {pval}\\n')\n",
    "\n"
   ]
  }
 ],
 "metadata": {
  "kernelspec": {
   "display_name": "Python 3",
   "language": "python",
   "name": "python3"
  },
  "language_info": {
   "codemirror_mode": {
    "name": "ipython",
    "version": 3
   },
   "file_extension": ".py",
   "mimetype": "text/x-python",
   "name": "python",
   "nbconvert_exporter": "python",
   "pygments_lexer": "ipython3",
   "version": "3.12.3"
  }
 },
 "nbformat": 4,
 "nbformat_minor": 2
}
