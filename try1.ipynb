{
 "cells": [
  {
   "cell_type": "code",
   "execution_count": null,
   "metadata": {},
   "outputs": [],
   "source": [
    "\n",
    "# Load MASTERSHEET\n",
    "\n",
    "df = pd.read_csv(\"F:\\\\github\\\\doon_pet_survey\\\\MASTERSHEET.csv\")\n",
    "print('no of rows in dataframe is', len(df))\n",
    "\n",
    "## add an index column (to offset for column numbers as per excel)\n",
    "df.insert(loc=0, column='index', value=range(len(df)))\n",
    "\n",
    "## filter by column 'consent' == 'Yes'\n",
    "df1 = df.loc[df[\"consent\"] == 'Yes']\n",
    "print('no of responses with consent is', len(df1))\n",
    "\n",
    "## filter by column 'have_pets' != 'No'\n",
    "df2 = df1.loc[df[\"have_pets\"] != 'No']\n",
    "print('no of responses with pets is',len(df2))\n",
    "\n",
    "# Cats dataframe\n",
    "## filter by column 'kind_of_pets' != 'Dog(s)'\n",
    "cats = df2.loc[df[\"kind_of_pets\"]!='Dog(s)']\n",
    "print('no of responses with cats or cats and dogs both is',len(cats))\n",
    "\n",
    "# Dogs ONLY dataframe\n",
    "## filter by column 'kind_of_pets' != 'Cat(s)'\n",
    "dogs = df2.loc[df[\"kind_of_pets\"]!='Cat(s)']\n",
    "print('no of responses with dogs or cats and dogs both is',len(dogs))\n",
    "\n"
   ]
  },
  {
   "cell_type": "code",
   "execution_count": null,
   "metadata": {},
   "outputs": [],
   "source": [
    "# create the following combine columns:\n",
    "\n",
    "## cat_age [11- 15]\n",
    "cat_age = cats.iloc[:, 11:16].astype(str).agg(';'.join,axis=1)\n",
    "cats.loc[:, 'cat_age'] = cat_age\n",
    "\n",
    "## cat_sex\n",
    "## cat_neutered\n",
    "## cat_feed\n",
    "## cat_feed_freq\n",
    "## cat_time_out\n",
    "## cat_stay\n",
    "## cat_hunt\n",
    "## cat_hunt_freq\n",
    "## cat_time\n",
    "\n",
    "cats"
   ]
  }
 ],
 "metadata": {
  "kernelspec": {
   "display_name": "Python 3",
   "language": "python",
   "name": "python3"
  },
  "language_info": {
   "name": "python",
   "version": "3.12.3"
  }
 },
 "nbformat": 4,
 "nbformat_minor": 2
}
