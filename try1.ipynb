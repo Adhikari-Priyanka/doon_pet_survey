{
 "cells": [
  {
   "cell_type": "code",
   "execution_count": 1,
   "metadata": {},
   "outputs": [],
   "source": [
    "import pandas as pd\n",
    "import numpy as np"
   ]
  },
  {
   "cell_type": "code",
   "execution_count": 3,
   "metadata": {},
   "outputs": [
    {
     "name": "stdout",
     "output_type": "stream",
     "text": [
      "no of rows in dataframe is 342\n",
      "no of responses with consent is 332\n",
      "no of responses with pets is 277\n",
      "no of responses with cats or cats and dogs both is 71\n",
      "no of responses with dogs or cats and dogs both is 225\n"
     ]
    }
   ],
   "source": [
    "\n",
    "# Load MASTERSHEET\n",
    "\n",
    "df = pd.read_csv(\"F:\\\\github\\\\doon_pet_survey\\\\MASTERSHEET.csv\")\n",
    "print('no of rows in dataframe is', len(df))\n",
    "\n",
    "## add an index column (to offset for column numbers as per excel)\n",
    "df.insert(loc=0, column='index', value=range(len(df)))\n",
    "\n",
    "## filter by column 'consent' == 'Yes'\n",
    "df1 = df.loc[df[\"consent\"] == 'Yes']\n",
    "print('no of responses with consent is', len(df1))\n",
    "\n",
    "## filter by column 'have_pets' != 'No'\n",
    "df2 = df1.loc[df[\"have_pets\"] != 'No']\n",
    "print('no of responses with pets is',len(df2))\n",
    "\n",
    "# Cats dataframe\n",
    "## filter by column 'kind_of_pets' != 'Dog(s)'\n",
    "cats = df2.loc[df[\"kind_of_pets\"]!='Dog(s)']\n",
    "print('no of responses with cats or cats and dogs both is',len(cats))\n",
    "\n",
    "# Dogs ONLY dataframe\n",
    "## filter by column 'kind_of_pets' != 'Cat(s)'\n",
    "dogs = df2.loc[df[\"kind_of_pets\"]!='Cat(s)']\n",
    "print('no of responses with dogs or cats and dogs both is',len(dogs))\n",
    "\n"
   ]
  },
  {
   "cell_type": "code",
   "execution_count": null,
   "metadata": {},
   "outputs": [],
   "source": [
    "# create the following combine columns:\n",
    "\n",
    "## cat_age\n",
    "## cat_sex\n",
    "## cat_neutered\n",
    "## cat_feed\n",
    "## cat_feed_freq\n",
    "## cat_time_out\n",
    "## cat_stay\n",
    "## cat_hunt\n",
    "## cat_hunt_freq\n",
    "## cat_time\n",
    "\n",
    "cats"
   ]
  },
  {
   "cell_type": "code",
   "execution_count": null,
   "metadata": {},
   "outputs": [],
   "source": [
    "r = 'sex'\n",
    "selected_col = cats.filter(like = r)\n",
    "selected_cols = selected_col.filter(like = 'cat')\n",
    "\n",
    "columns_to_concat = [selected_cols[col] for col in selected_cols.columns]\n",
    "#columns_to_concat\n",
    "result = pd.concat(columns_to_concat, axis=0)\n",
    "result\n",
    "\n",
    "\n",
    "\n"
   ]
  },
  {
   "cell_type": "code",
   "execution_count": 25,
   "metadata": {},
   "outputs": [
    {
     "data": {
      "text/plain": [
       "5      Female\n",
       "14       Male\n",
       "37       Male\n",
       "41       Male\n",
       "46       Male\n",
       "        ...  \n",
       "322       NaN\n",
       "327       NaN\n",
       "332      F, M\n",
       "333       NaN\n",
       "335       NaN\n",
       "Length: 426, dtype: object"
      ]
     },
     "execution_count": 25,
     "metadata": {},
     "output_type": "execute_result"
    }
   ],
   "source": [
    "def col_combin (df, col_suffix, pet):\n",
    "    # df: Enter name of the dataframe\n",
    "    # col_suffix: Enter the suffix of the column to combine\n",
    "    # pet: Enter which pet - dog or cat \n",
    "    \n",
    "    col_filter1 = df.filter(like = col_suffix)\n",
    "    col_filter2 = col_filter1.filter(like = pet)\n",
    "    columns_to_concat = [selected_cols[col] for col in selected_cols.columns]\n",
    "    result = pd.concat(columns_to_concat, axis=0)\n",
    "    return result\n",
    "\n",
    "age = col_combin(df2, 'age', 'cat')\n",
    "age"
   ]
  },
  {
   "cell_type": "code",
   "execution_count": null,
   "metadata": {},
   "outputs": [],
   "source": [
    "\n",
    "columns_list = ['age', 'sex', 'neutered', 'feed', 'feed_freq', \n",
    "                'time_out', 'stay', 'hunt', 'hunt_freq', 'time']\n",
    "\n",
    "def col_combin (df, col_suffix_list, pet):\n",
    "    # df: Enter name of the dataframe\n",
    "    # col_suffix_list: Enter the suffix of the column to combine\n",
    "    # pet: Enter which pet - dog or cat \n",
    "    \n",
    "    #Filter by type of pet\n",
    "    col_filter2 = col_filter1.filter(like = pet)\n",
    "    \n",
    "    #\n",
    "    for i in col_suffix_list:\n",
    "        \n",
    "    \n",
    "    \n",
    "    \n",
    "    \n",
    "    \n",
    "    \n",
    "    \n",
    "col_filter1 = df.filter(like = col_suffix)\n",
    "col_filter2 = col_filter1.filter(like = pet)\n",
    "columns_to_concat = [selected_cols[col] for col in selected_cols.columns]\n",
    "result = pd.concat(columns_to_concat, axis=0)\n",
    "return result\n",
    "\n",
    "\n",
    "\n",
    "\n"
   ]
  },
  {
   "cell_type": "code",
   "execution_count": null,
   "metadata": {},
   "outputs": [],
   "source": [
    "age = col_combin(cats, 'age', 'cat')\n",
    "sex = col_combin(cats, 'sex', 'cat')\n",
    "neutered = col_combin(cats, 'neutered', 'cat')\n",
    "feed = col_combin(cats, 'feed', 'cat')\n",
    "feed_freq = col_combin(cats, 'feed_freq', 'cat')\n",
    "\n"
   ]
  },
  {
   "cell_type": "code",
   "execution_count": 22,
   "metadata": {},
   "outputs": [
    {
     "name": "stdout",
     "output_type": "stream",
     "text": [
      "age\n",
      "sex\n",
      "neutered\n",
      "feed\n",
      "feed_freq\n",
      "time_out\n",
      "stay\n",
      "hunt\n",
      "hunt_freq\n",
      "time\n"
     ]
    }
   ],
   "source": [
    "columns_list = ['age', 'sex', 'neutered', 'feed', 'feed_freq', \n",
    "                'time_out', 'stay', 'hunt', 'hunt_freq', 'time']\n",
    "\n",
    "for i in columns_list:\n",
    "    print(i)"
   ]
  }
 ],
 "metadata": {
  "kernelspec": {
   "display_name": "Python 3",
   "language": "python",
   "name": "python3"
  },
  "language_info": {
   "codemirror_mode": {
    "name": "ipython",
    "version": 3
   },
   "file_extension": ".py",
   "mimetype": "text/x-python",
   "name": "python",
   "nbconvert_exporter": "python",
   "pygments_lexer": "ipython3",
   "version": "3.12.3"
  }
 },
 "nbformat": 4,
 "nbformat_minor": 2
}
