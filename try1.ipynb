{
 "cells": [
  {
   "cell_type": "code",
   "execution_count": null,
   "metadata": {},
   "outputs": [],
   "source": [
    "\n",
    "\n",
    "# load MASTERSHEET\n",
    "\n",
    "# CATS ONLY dataframe\n",
    "\n",
    "## filter by column 'consent' == 'Yes'\n",
    "## filter by column 'have_pets' != 'No'\n",
    "## filter by column 'kind_of_pets' != 'Dog(s)'\n",
    "\n",
    "# create the following combine columns:\n",
    "\n",
    "## cat_age\n",
    "## cat_sex\n",
    "## cat_neutered\n",
    "## cat_feed\n",
    "## cat_feed_freq\n",
    "## cat_time_out\n",
    "## cat_stay\n",
    "## cat_hunt\n",
    "## cat_hunt_freq\n",
    "## cat_time\n",
    "\n",
    "# \n",
    "\n",
    "\n"
   ]
  }
 ],
 "metadata": {
  "language_info": {
   "name": "python"
  }
 },
 "nbformat": 4,
 "nbformat_minor": 2
}
