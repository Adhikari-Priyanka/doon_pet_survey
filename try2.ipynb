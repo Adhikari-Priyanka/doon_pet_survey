{
 "cells": [
  {
   "cell_type": "code",
   "execution_count": 5,
   "metadata": {},
   "outputs": [],
   "source": [
    "import pandas as pd\n",
    "import numpy as np\n",
    "import os\n",
    "\n",
    "## Change file path as needed!!!!\n",
    "wd = 'F:\\\\github\\\\doon_pet_survey_graphs\\\\'\n",
    "\n",
    "# Load csv files for cat and dog\n",
    "cat = pd.read_csv(\"F:\\\\github\\\\doon_pet_survey_graphs\\\\cat_combine.csv\")\n",
    "dog = pd.read_csv(\"F:\\\\github\\\\doon_pet_survey_graphs\\\\dog_combine.csv\")"
   ]
  },
  {
   "cell_type": "code",
   "execution_count": 63,
   "metadata": {},
   "outputs": [
    {
     "name": "stdout",
     "output_type": "stream",
     "text": [
      "54\n",
      "54\n"
     ]
    }
   ],
   "source": [
    "res = cat['cat_hunt'].value_counts()\n",
    "res_count = res.sum()\n",
    "print(res_count)\n",
    "print(len(cat['cat_hunt'].dropna()))"
   ]
  },
  {
   "cell_type": "code",
   "execution_count": 44,
   "metadata": {},
   "outputs": [],
   "source": [
    "cat_order_dict = {\n",
    "    'cat_age':['Kitten (0-6 months)','Junior (7 months - 2 years)', 'Adult (3-6 years)','Mature (7-10 years)', 'Senior (11-14 years)'],\n",
    "    'cat_sex' : ['Female', 'Male'] ,\n",
    "    'cat_neutered' : ['Neutered', 'Not neutered'],\n",
    "    'cat_describe' : [\"Indoor-outdoor cat (the cat wanders outside on its own, but you feed it and look after it when it is sick)\",'Completely indoor cat (always stays at home and does not go out on its own'],\n",
    "    'cat_feed_freq' : ['Continuous supply of food is available', 'Thrice a day', 'Twice a day', 'Once a day'],\n",
    "    'cat_time_out': ['1-3 hours', '3-5 hours', '5-7 hours', '7- 10 hours', '>10 hours', 'Completely indoors',\"I don't know\"],\n",
    "    'cat_stay' : ['At home', 'Outside', 'Either at home or outside'],\n",
    "    'cat_hunt_yn': ['Yes', 'No', 'Have not observed'],\n",
    "    'cat_hunt_freq': ['Once every few months', 'Once a month', 'Once in 15 days', 'Once a week', 'Every day'], ## opposite\n",
    "    'cat_time': ['None at all', '10-20 minutes', '20-40 minutes','40 minutes-1 hour','1-2 hours','2-4 hours','>4 hours']\n",
    "    }\n",
    "dog_order_dict = {\n",
    "    'dog_age' : ['0-3 months', '3 months - 1 year','1-3 years','3-5 years','5-8 years','8 - 12 years','12 years and older'],\n",
    "    'dog_sex' : ['Female', 'Male'],\n",
    "    'dog_neutered' : ['Neutered', 'Not neutered'],\n",
    "    'dog_hunt_yn' : ['Yes', 'No', 'Have not observed'],\n",
    "    'dog_hunt_freq' : ['Once every few months','Once a month','Once in 15 days','Once a week','Everyday']\n",
    "}\n"
   ]
  },
  {
   "cell_type": "code",
   "execution_count": 69,
   "metadata": {},
   "outputs": [
    {
     "name": "stdout",
     "output_type": "stream",
     "text": [
      "'F:\\github\\doon_pet_survey_graphs\\frequency tables.txt' already exists.\n"
     ]
    }
   ],
   "source": [
    "# Save frequency tables as text file\n",
    "\n",
    "filename = f'{wd}frequency tables.txt'\n",
    "if not os.path.isfile(filename):\n",
    "    # If the file does not exist, create it\n",
    "    with open(filename, 'w') as file:\n",
    "        file.write('')  # Create an empty file\n",
    "    print(f\"'{filename}' has been created.\")\n",
    "else:\n",
    "    print(f\"'{filename}' already exists.\")\n",
    "\n",
    "with open(filename,'w') as f: # Open the file\n",
    "    # For cat single option variables (cat1 to cat5)\n",
    "    remove = ['row_ids', 'Unnamed: 0', # Dont need frequency table for index\n",
    "              'cat_hunt_yn', 'cat_describe', # Not corresponding to individual cat\n",
    "              'cat_feed', 'cat_hunt' # Contains multiple options in one\n",
    "              ]\n",
    "    for col in cat.columns.drop(remove): \n",
    "        res = cat[col].value_counts().reindex(cat_order_dict[col]) # Count values in col and reorder based on dict\n",
    "        res_count = len(cat[col].dropna()) # Count total number of cats\n",
    "        f.write(f' CAT frequency table for {col}: \\n{res}\\n Total cats = {res_count}\\n\\n\\n')\n",
    "        \n",
    "    # For cat multiple option variables (cat1 to cat5)\n",
    "    multi = ['cat_hunt', 'cat_feed']\n",
    "    for col in multi:\n",
    "        fix = cat[col].str.split(';').explode().reset_index(drop=True)\n",
    "        fix1 = fix.dropna() # Remove NA values\n",
    "        fix2 = fix1[fix1!=''] # Remove blank values\n",
    "        fix3 = fix2.str.split('(').str.get(0).str.strip() # Remove text inside ()\n",
    "        res = fix3.value_counts()\n",
    "        res_count = len(cat[col].dropna()) # Count total number of cats\n",
    "        f.write(f' CAT frequency table for multiple option column: {col}: \\n{res}\\n Total cats = {res_count}\\n\\n\\n')\n",
    "\n",
    "    # For dog single option variables (dog1 to dog5)\n",
    "    remove = ['row_ids', 'Unnamed: 0', # Dont need frequency table for index\n",
    "              'dog_hunt' # Contains multiple options in one\n",
    "              ]\n",
    "    for col in dog.columns.drop(remove): \n",
    "        res = dog[col].value_counts().reindex(dog_order_dict[col]) # Count values in col and reorder based on dict\n",
    "        res_count = len(dog[col].dropna()) # Count total number of dogs\n",
    "        f.write(f' DOG frequency table for {col}: \\n{res}\\n Total dogs = {res_count}\\n\\n\\n')\n",
    "\n",
    "    # For dog multiple option variables (dog1 to dog5)\n",
    "    multi = ['dog_hunt']\n",
    "    for col in multi:\n",
    "        fix = dog[col].str.split(';').explode().reset_index(drop=True)\n",
    "        fix1 = fix.dropna() # Remove NA values\n",
    "        fix2 = fix1[fix1!=''] # Remove blank values\n",
    "        fix3 = fix2.str.split('(').str.get(0).str.strip() # Remove text inside ()\n",
    "        res = fix3.value_counts()\n",
    "        res_count = len(dog[col].dropna()) # Count total number of dogs\n",
    "        f.write(f' DOG frequency table for multiple option column: {col}: \\n{res}\\n Total dogs = {res_count}\\n\\n\\n')"
   ]
  },
  {
   "cell_type": "code",
   "execution_count": 71,
   "metadata": {},
   "outputs": [],
   "source": [
    "filepath = f'{wd}\\\\histograms\\\\'\n",
    "if not os.path.exists(filepath):\n",
    "    os.makedirs(filepath)\n",
    "    \n",
    "filepath = f'{wd}\\\\histograms\\\\multi\\\\'\n",
    "if not os.path.exists(filepath):\n",
    "    os.makedirs(filepath)"
   ]
  }
 ],
 "metadata": {
  "kernelspec": {
   "display_name": "Python 3",
   "language": "python",
   "name": "python3"
  },
  "language_info": {
   "codemirror_mode": {
    "name": "ipython",
    "version": 3
   },
   "file_extension": ".py",
   "mimetype": "text/x-python",
   "name": "python",
   "nbconvert_exporter": "python",
   "pygments_lexer": "ipython3",
   "version": "3.12.3"
  }
 },
 "nbformat": 4,
 "nbformat_minor": 2
}
