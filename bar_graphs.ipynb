{
 "cells": [
  {
   "cell_type": "code",
   "execution_count": 108,
   "metadata": {},
   "outputs": [],
   "source": [
    "import pandas as pd\n",
    "import numpy as np\n",
    "import os\n",
    "import plotly.express as px\n",
    "import kaleido\n",
    "import plotly.io as pio\n",
    "\n",
    "## Change file path as needed!!!!\n",
    "wd = 'F:\\\\github\\\\doon_pet_survey_graphs\\\\'\n",
    "\n",
    "## Load csv files for cat and dog\n",
    "cat = pd.read_csv(f'{wd}cat_combine.csv')\n",
    "dog = pd.read_csv(f'{wd}dog_combine.csv')\n",
    "\n",
    "col_scale = ['#169999','#555486', '#993989', '#113989']\n",
    "\n",
    "cat_order_dict = {\n",
    "    'cat_age':['Kitten (0-6 months)','Junior (7 months - 2 years)', 'Adult (3-6 years)','Mature (>7 years)'],\n",
    "    'cat_sex' : ['Female', 'Male'] ,\n",
    "    'cat_neutered' : ['Not neutered', 'Neutered'],\n",
    "    'cat_describe' : [\"Indoor-outdoor cat (the cat wanders outside on its own, but you feed it and look after it when it is sick)\",'Completely indoor cat (always stays at home and does not go out on its own'],\n",
    "    'cat_feed_freq' : ['Once a day', 'Twice a day', 'Thrice a day', 'Continuous supply of food' ],\n",
    "    'cat_time_out': ['Completely indoors', '1-3 hours', '3-5 hours', '5-7 hours', '>7 hours'],\n",
    "    'cat_stay' : ['At home', 'Either at home or outside', 'Outside'],\n",
    "    'cat_hunt_yn': ['Yes', 'No'],\n",
    "    'cat_hunt_yn_fix': ['Yes', 'No'],\n",
    "    'cat_hunt_fix' : ['Birds','Rodents','Reptiles','Insects','Squirrels','Amphibians'],\n",
    "    'cat_hunt_freq': ['Once a week', 'Once in 15 days', 'Once a month','Once every few months'], \n",
    "    'cat_time': ['<1 hour','1-2 hours','2-4 hours','>4 hours']\n",
    "    }\n",
    "dog_order_dict = {\n",
    "    'dog_age' : ['0-3 months', '3 months - 1 year','1-3 years','3-5 years','5-8 years','8 - 12 years','12 years and older'],\n",
    "    'dog_sex' : ['Female', 'Male'],\n",
    "    'dog_neutered' : ['Neutered', 'Not neutered'],\n",
    "    'dog_hunt_yn' : ['Yes', 'No', 'Have not observed'],\n",
    "    'dog_hunt_yn_fix': ['Yes', 'No'],\n",
    "    'dog_hunt_freq' : ['Few times a month','Once every few months']\n",
    "}"
   ]
  },
  {
   "cell_type": "code",
   "execution_count": 109,
   "metadata": {},
   "outputs": [
    {
     "name": "stdout",
     "output_type": "stream",
     "text": [
      "'F:\\github\\doon_pet_survey_graphs\\contingency tables.txt' already exists.\n"
     ]
    }
   ],
   "source": [
    "## Define independent and dependent variables (single option columns ONLY)\n",
    "cat_dep_var = ['cat_hunt_yn_fix', 'cat_hunt_freq']\n",
    "cat_indep_var = ['cat_sex','cat_neutered',\n",
    "             'cat_age','cat_time',\n",
    "             'cat_time_out','cat_stay',\n",
    "             'cat_feed_freq']\n",
    "\n",
    "dog_dep_var = ['dog_hunt_yn_fix','dog_hunt_freq']\n",
    "dog_indep_var = ['dog_neutered', 'dog_sex', 'dog_age']\n",
    "\n",
    "# 2.2 Save contingency tables as text file\n",
    "\n",
    "filename = f'{wd}contingency tables.txt'\n",
    "if not os.path.isfile(filename):\n",
    "    # If the file does not exist, create it\n",
    "    with open(filename, 'w') as file:\n",
    "        file.write('')  # Create an empty file\n",
    "    print(f\"'{filename}' has been created.\")\n",
    "else:\n",
    "    print(f\"'{filename}' already exists.\")\n",
    "\n",
    "with open(filename,'w') as f: # Open the file\n",
    "    for dv in cat_dep_var:\n",
    "        for iv in cat_indep_var:\n",
    "            res = pd.crosstab(cat[dv],cat[iv]\n",
    "                              ).reindex(cat_order_dict[dv], columns=cat_order_dict[iv]) \n",
    "            f.write(f'CAT Contingency table for {dv} and {iv}: \\n{res}\\n\\n')\n",
    "    for dv in dog_dep_var:\n",
    "        for iv in dog_indep_var:\n",
    "            res = pd.crosstab(dog[dv],dog[iv]\n",
    "                              ).reindex(dog_order_dict[dv], columns=dog_order_dict[iv]) \n",
    "            f.write(f'DOG Contingency table for {dv} and {iv}: \\n{res}\\n\\n')\n"
   ]
  },
  {
   "cell_type": "code",
   "execution_count": 110,
   "metadata": {},
   "outputs": [],
   "source": [
    "def nice_graph(df, x_var, col_var, \n",
    "               graph_title, x_tit, legend_tit, \n",
    "               h, w, \n",
    "               an_x,an_y,\n",
    "               dof, alpha, chi2, crit, p):\n",
    "    fig = px.histogram(df, x_var, color= col_var,\n",
    "                   # Graph title\n",
    "                   title = graph_title, \n",
    "                   # Set color sequence\n",
    "                   color_discrete_sequence= col_scale,\n",
    "                   # Define required order of categories\n",
    "                   category_orders= { x_var : cat_order_dict[x_var],\n",
    "                                     col_var : cat_order_dict[col_var]}, \n",
    "                   # Include labels\n",
    "                   text_auto=True\n",
    "                   )\n",
    "    fig.update_yaxes(title = 'Number of cats', # Y-axis title\n",
    "                 # Set the grid format\n",
    "                 showline=True, linewidth=1, linecolor='Black',\n",
    "                 gridcolor='Grey', gridwidth=0.75)\n",
    "    \n",
    "    fig.update_xaxes(title = x_tit, # X-axis title\n",
    "                 showline=True, linewidth=1, linecolor='Black')\n",
    "\n",
    "    fig.update_layout(showlegend=True, # Display legend\n",
    "                  # Legend title\n",
    "                  legend_title_text= legend_tit, \n",
    "                  # Background color\n",
    "                  plot_bgcolor='White', \n",
    "                  # Define range of y axis\n",
    "                  yaxis_range=[0,max(df[x_var].value_counts()*1.1)],\n",
    "                  # Change size of graph\n",
    "                  autosize=False,width=w,height=h\n",
    "                  )\n",
    "\n",
    "    fig.add_annotation(text=\n",
    "                   f'Chi2 value= {chi2} <br> alpha= {alpha}, dof={dof} <br> Critical value = {crit} <br> P value = {p}',\n",
    "                   align = 'left',\n",
    "                  xref=\"paper\", yref=\"paper\",\n",
    "                  x=an_x, y=an_y, \n",
    "                  bordercolor='Black',borderwidth=1,\n",
    "                  showarrow=False)\n",
    "    \n",
    "     # Save figure as png\n",
    "    pio.write_image(fig, f'{wd}stack_{x_var}and{col_var}.png', engine=\"kaleido\")\n",
    "    \n",
    "    # Display success message\n",
    "    print(f'Prepared stacked bar graph for {x_var} and {col_var}')\n",
    "    # fig.show()"
   ]
  },
  {
   "cell_type": "code",
   "execution_count": 111,
   "metadata": {},
   "outputs": [
    {
     "name": "stdout",
     "output_type": "stream",
     "text": [
      "Prepared stacked bar graph for cat_age and cat_hunt_yn_fix\n"
     ]
    },
    {
     "name": "stderr",
     "output_type": "stream",
     "text": [
      "c:\\Users\\priya\\AppData\\Local\\Programs\\Python\\Python312\\Lib\\site-packages\\plotly\\express\\_core.py:1979: FutureWarning:\n",
      "\n",
      "When grouping with a length-1 list-like, you will need to pass a length-1 tuple to get_group in a future version of pandas. Pass `(name,)` instead of `name` to silence this warning.\n",
      "\n"
     ]
    }
   ],
   "source": [
    "# 1. Plot of hunting activity of cats across age groups\n",
    "# cat_hunt_yn_fix and cat_age\n",
    "# reject h0, there is a relationship \n",
    "# Chi square value = 20.20993784642799\n",
    "# Critical value = 7.814727903251179\n",
    "# alpha=0.05\n",
    "# df=3\n",
    "# P value = 0.0001535581691545218\n",
    "\n",
    "nice_graph(df= cat, x_var= 'cat_age',\n",
    "col_var= 'cat_hunt_yn_fix',\n",
    "graph_title= 'Plot of hunting activity of cats across age groups',\n",
    "x_tit= 'Cat age groups',\n",
    "legend_tit= 'Cats that hunt',\n",
    "h=800,w=800,\n",
    "an_x=1,an_y=0.74, \n",
    "dof=3, alpha=0.05, chi2=20.20, crit=7.81, p='<0.001')"
   ]
  },
  {
   "cell_type": "code",
   "execution_count": 112,
   "metadata": {},
   "outputs": [
    {
     "name": "stderr",
     "output_type": "stream",
     "text": [
      "c:\\Users\\priya\\AppData\\Local\\Programs\\Python\\Python312\\Lib\\site-packages\\plotly\\express\\_core.py:1979: FutureWarning:\n",
      "\n",
      "When grouping with a length-1 list-like, you will need to pass a length-1 tuple to get_group in a future version of pandas. Pass `(name,)` instead of `name` to silence this warning.\n",
      "\n"
     ]
    },
    {
     "name": "stdout",
     "output_type": "stream",
     "text": [
      "Prepared stacked bar graph for cat_time_out and cat_hunt_yn_fix\n"
     ]
    }
   ],
   "source": [
    "# 2. Plot hunting activity of cats and time spent outside\n",
    "\n",
    "# cat_hunt_yn_fix and cat_time_out\n",
    "# reject h0, there is a relationship \n",
    "# Chi square value = 28.223985530040895 \n",
    "# Critical value = 9.487729036781154 \n",
    "# alpha=0.05\n",
    "# df=4 \n",
    "# P value = 1.1234691477124414e-05\n",
    "\n",
    "nice_graph(df = cat, x_var= 'cat_time_out',\n",
    "col_var= 'cat_hunt_yn_fix',\n",
    "graph_title= 'Plot of cat hunting and time spent outside',\n",
    "x_tit= 'Time spent outside',\n",
    "legend_tit= 'Cats that hunt',\n",
    "h=400,w=900,\n",
    "an_x=1.2,an_y=0.33, \n",
    "dof=4, alpha=0.05, chi2=28.22, crit=9.48, p='<0.001')"
   ]
  },
  {
   "cell_type": "code",
   "execution_count": 113,
   "metadata": {},
   "outputs": [
    {
     "name": "stderr",
     "output_type": "stream",
     "text": [
      "c:\\Users\\priya\\AppData\\Local\\Programs\\Python\\Python312\\Lib\\site-packages\\plotly\\express\\_core.py:1979: FutureWarning:\n",
      "\n",
      "When grouping with a length-1 list-like, you will need to pass a length-1 tuple to get_group in a future version of pandas. Pass `(name,)` instead of `name` to silence this warning.\n",
      "\n"
     ]
    },
    {
     "name": "stdout",
     "output_type": "stream",
     "text": [
      "Prepared stacked bar graph for cat_stay and cat_hunt_yn_fix\n"
     ]
    }
   ],
   "source": [
    "# 3. Plot hunting activity of cats hunting and cat stay\n",
    "\n",
    "# Result for cat_hunt_yn_fix and cat_stay: \n",
    "# reject h0, there is a relationship \n",
    "# Chi square value = 6.434185477710145\n",
    "# Critical value = 5.991464547107979\n",
    "# alpha=0.05\n",
    "# df=2 \n",
    "# P value = 0.040071387066250796\n",
    "\n",
    "nice_graph(df = cat, x_var= 'cat_stay',\n",
    "col_var= 'cat_hunt_yn_fix',\n",
    "graph_title= 'Plot of cat hunting and cat stay',\n",
    "x_tit= 'Cat stay',\n",
    "legend_tit= 'Cats that hunt',\n",
    "h=500,w=800,\n",
    "an_x=1.23,an_y=0.33, \n",
    "dof=2, alpha=0.05, chi2=6.43, crit=5.99, p=0.04)\n",
    " "
   ]
  },
  {
   "cell_type": "code",
   "execution_count": 114,
   "metadata": {},
   "outputs": [
    {
     "name": "stderr",
     "output_type": "stream",
     "text": [
      "c:\\Users\\priya\\AppData\\Local\\Programs\\Python\\Python312\\Lib\\site-packages\\plotly\\express\\_core.py:1979: FutureWarning:\n",
      "\n",
      "When grouping with a length-1 list-like, you will need to pass a length-1 tuple to get_group in a future version of pandas. Pass `(name,)` instead of `name` to silence this warning.\n",
      "\n"
     ]
    },
    {
     "name": "stdout",
     "output_type": "stream",
     "text": [
      "Prepared stacked bar graph for cat_feed_freq and cat_hunt_yn_fix\n"
     ]
    }
   ],
   "source": [
    "# 4. Plot hunting activity of cats and feeding frequency\n",
    "\n",
    "#Result for cat_hunt_yn_fix and cat_feed_freq\n",
    "# reject h0, there is a relationship \n",
    "# Chi square value = 13.090261742154786\n",
    "# Critical value = 7.814727903251179\n",
    "# alpha=0.05\n",
    "# df=3\n",
    "# P value = 0.004445420000007694\n",
    "\n",
    "nice_graph(df = cat, x_var= 'cat_feed_freq',\n",
    "col_var= 'cat_hunt_yn_fix',\n",
    "graph_title= 'Plot of cat hunting and feeding frequency',\n",
    "x_tit= 'Feeding frequency',\n",
    "legend_tit= 'Cats that hunt',\n",
    "h=800,w=500,\n",
    "an_x=1.4,an_y=0.81, \n",
    "dof=3, alpha=0.05, chi2=13.09, crit=7.81, p=0.004)"
   ]
  },
  {
   "cell_type": "code",
   "execution_count": 115,
   "metadata": {},
   "outputs": [
    {
     "name": "stderr",
     "output_type": "stream",
     "text": [
      "C:\\Users\\priya\\AppData\\Local\\Temp\\ipykernel_15020\\3954193031.py:13: SettingWithCopyWarning:\n",
      "\n",
      "\n",
      "A value is trying to be set on a copy of a slice from a DataFrame.\n",
      "Try using .loc[row_indexer,col_indexer] = value instead\n",
      "\n",
      "See the caveats in the documentation: https://pandas.pydata.org/pandas-docs/stable/user_guide/indexing.html#returning-a-view-versus-a-copy\n",
      "\n",
      "C:\\Users\\priya\\AppData\\Local\\Temp\\ipykernel_15020\\3954193031.py:18: SettingWithCopyWarning:\n",
      "\n",
      "\n",
      "A value is trying to be set on a copy of a slice from a DataFrame.\n",
      "Try using .loc[row_indexer,col_indexer] = value instead\n",
      "\n",
      "See the caveats in the documentation: https://pandas.pydata.org/pandas-docs/stable/user_guide/indexing.html#returning-a-view-versus-a-copy\n",
      "\n",
      "c:\\Users\\priya\\AppData\\Local\\Programs\\Python\\Python312\\Lib\\site-packages\\plotly\\express\\_core.py:1979: FutureWarning:\n",
      "\n",
      "When grouping with a length-1 list-like, you will need to pass a length-1 tuple to get_group in a future version of pandas. Pass `(name,)` instead of `name` to silence this warning.\n",
      "\n"
     ]
    },
    {
     "name": "stdout",
     "output_type": "stream",
     "text": [
      "Prepared stacked bar graph for cat_hunt_fix and cat_neutered\n"
     ]
    }
   ],
   "source": [
    "# 5. Plot hunting activity of cats and neutered status\n",
    "\n",
    "#Result for cat_hunt and cat_neutered\n",
    "# Chi square value = 16.69097222222222\n",
    "# Critical value = 15.507313055865453\n",
    "# alpha=0.05\n",
    "# df=8 \n",
    "# P value = 0.03349274096630939\n",
    "\n",
    "# Select only required columns from the dataframe\n",
    "df1 = cat[['cat_hunt', 'cat_neutered']]\n",
    "# Remove multiple entries in one line\n",
    "df1['cat_hunt_fix'] = df1['cat_hunt'].str.split(';')\n",
    "df2 = df1.explode('cat_hunt_fix').reset_index(drop=True)\n",
    "# Remove blank values\n",
    "df3 = df2[df2['cat_hunt_fix']!='']\n",
    "# Remove text inside ()\n",
    "df3['cat_hunt_fix'] = df3['cat_hunt_fix'].str.split('(').str.get(0).str.strip()\n",
    "\n",
    "nice_graph(df = df3, x_var= 'cat_hunt_fix',\n",
    "col_var= 'cat_neutered',\n",
    "graph_title= 'Plot of types of prey by cat neutered status',\n",
    "x_tit= 'Types of prey',\n",
    "legend_tit= 'Cats neutered status',\n",
    "h=400,w=800,\n",
    "an_x=1.3,an_y=0.50, \n",
    "dof=8, alpha=0.05, chi2=16.69, crit=15.5, p=0.03)\n"
   ]
  },
  {
   "cell_type": "code",
   "execution_count": 116,
   "metadata": {},
   "outputs": [
    {
     "name": "stderr",
     "output_type": "stream",
     "text": [
      "C:\\Users\\priya\\AppData\\Local\\Temp\\ipykernel_15020\\1248026140.py:14: SettingWithCopyWarning:\n",
      "\n",
      "\n",
      "A value is trying to be set on a copy of a slice from a DataFrame.\n",
      "Try using .loc[row_indexer,col_indexer] = value instead\n",
      "\n",
      "See the caveats in the documentation: https://pandas.pydata.org/pandas-docs/stable/user_guide/indexing.html#returning-a-view-versus-a-copy\n",
      "\n",
      "C:\\Users\\priya\\AppData\\Local\\Temp\\ipykernel_15020\\1248026140.py:19: SettingWithCopyWarning:\n",
      "\n",
      "\n",
      "A value is trying to be set on a copy of a slice from a DataFrame.\n",
      "Try using .loc[row_indexer,col_indexer] = value instead\n",
      "\n",
      "See the caveats in the documentation: https://pandas.pydata.org/pandas-docs/stable/user_guide/indexing.html#returning-a-view-versus-a-copy\n",
      "\n",
      "c:\\Users\\priya\\AppData\\Local\\Programs\\Python\\Python312\\Lib\\site-packages\\plotly\\express\\_core.py:1979: FutureWarning:\n",
      "\n",
      "When grouping with a length-1 list-like, you will need to pass a length-1 tuple to get_group in a future version of pandas. Pass `(name,)` instead of `name` to silence this warning.\n",
      "\n"
     ]
    },
    {
     "name": "stdout",
     "output_type": "stream",
     "text": [
      "Prepared stacked bar graph for cat_hunt_fix and cat_age\n"
     ]
    }
   ],
   "source": [
    "# 6. Plot hunting activity of cats and cats across age groups\n",
    "\n",
    "# Result for cat_hunt and cat_age\n",
    "# reject h0, there is a relationship \n",
    "# Chi square value = 16.69097222222222\n",
    "# Critical value = 15.507313055865453\n",
    "# alpha=0.05\n",
    "# df=8\n",
    "# P value = 0.03349274096630939\n",
    "\n",
    "# Select only required columns from the dataframe\n",
    "df1 = cat[['cat_hunt', 'cat_age']]\n",
    "# Remove multiple entries in one line\n",
    "df1['cat_hunt_fix'] = df1['cat_hunt'].str.split(';')\n",
    "df2 = df1.explode('cat_hunt_fix').reset_index(drop=True)\n",
    "# Remove blank values\n",
    "df3 = df2[df2['cat_hunt_fix']!='']\n",
    "# Remove text inside ()\n",
    "df3['cat_hunt_fix'] = df3['cat_hunt_fix'].str.split('(').str.get(0).str.strip()\n",
    "\n",
    "nice_graph(df = df3, x_var= 'cat_hunt_fix',\n",
    "col_var= 'cat_age',\n",
    "graph_title= 'Plot hunting activity of cats and cats across age groups',\n",
    "x_tit= 'Types of prey',\n",
    "legend_tit= 'Cat age groups',\n",
    "h=400,w=800,\n",
    "an_x=1.3,an_y=0.2, \n",
    "dof=8, alpha=0.05, chi2=16.69, crit=15.50, p=0.03)"
   ]
  }
 ],
 "metadata": {
  "kernelspec": {
   "display_name": "Python 3",
   "language": "python",
   "name": "python3"
  },
  "language_info": {
   "codemirror_mode": {
    "name": "ipython",
    "version": 3
   },
   "file_extension": ".py",
   "mimetype": "text/x-python",
   "name": "python",
   "nbconvert_exporter": "python",
   "pygments_lexer": "ipython3",
   "version": "3.12.3"
  }
 },
 "nbformat": 4,
 "nbformat_minor": 2
}
