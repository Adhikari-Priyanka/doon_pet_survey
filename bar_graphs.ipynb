{
 "cells": [
  {
   "cell_type": "code",
   "execution_count": 2,
   "metadata": {},
   "outputs": [],
   "source": [
    "import pandas as pd\n",
    "import numpy as np\n",
    "import os\n",
    "import plotly.express as px\n",
    "import kaleido\n",
    "import plotly.io as pio\n",
    "\n",
    "## Change file path as needed!!!!\n",
    "wd = 'F:\\\\github\\\\doon_pet_survey_graphs\\\\'\n",
    "\n",
    "## Load csv files for cat and dog\n",
    "cat = pd.read_csv(f'{wd}cat_combine.csv')\n",
    "dog = pd.read_csv(f'{wd}dog_combine.csv')\n"
   ]
  },
  {
   "cell_type": "code",
   "execution_count": 3,
   "metadata": {},
   "outputs": [],
   "source": [
    "graph_vars = [('cat_hunt_yn_fix', 'cat_age'),\n",
    "('cat_hunt_yn_fix', 'cat_time_out'),\n",
    "('cat_hunt_yn_fix', 'cat_feed_freq'),\n",
    "('cat_neutered','cat_hunt_freq')]\n",
    "\n"
   ]
  },
  {
   "cell_type": "code",
   "execution_count": null,
   "metadata": {},
   "outputs": [],
   "source": [
    "x_var = graph_multi[0][1]\n",
    "col_var = graph_multi[0][0]\n",
    "col_scale = ['#999999','#555555']\n",
    "\n",
    "fig = px.histogram(cat, x_var, color= col_var,\n",
    "                   title = f'Plot {x_var} and {col_var}', # Graph title\n",
    "                   color_discrete_sequence= col_scale,\n",
    "                   #category_orders= { x_var : cat_order_dict[x_var]}, # Define required order of categories\n",
    "                       text_auto=True ## dimension\n",
    "                   )\n",
    "\n",
    "fig.update_yaxes(title = 'Count', # Y-axis title\n",
    "                    showline=True, linewidth=1, linecolor='Black', \n",
    "                    gridcolor='Grey', gridwidth=0.75,\n",
    "                    zeroline=True, zerolinewidth=1, zerolinecolor='Black')\n",
    "    \n",
    "fig.update_xaxes(title = x_var) # X-axis title\n",
    "fig.update_layout(showlegend=True, # legend\n",
    "                      plot_bgcolor='White',\n",
    "                      yaxis_range=[0,\n",
    "                                   max(cat[x_var].value_counts()*1.1)])\n",
    "    \n",
    "\n",
    "fig.show()"
   ]
  },
  {
   "cell_type": "code",
   "execution_count": null,
   "metadata": {},
   "outputs": [],
   "source": [
    "#Chi square association\n",
    "#Result for cat_hunt_yn_fix and cat_age: \n",
    "#reject h0, there is a relationship \n",
    "# Chi square value = 11.809170244367774 \n",
    "# Critical value = 7.814727903251179 \n",
    "# P value = 0.008066287380498083\n",
    "\n",
    "#Result for cat_hunt_yn_fix and cat_time_out: \n",
    "#reject h0, there is a relationship \n",
    "# Chi square value = 27.40818514439656 \n",
    "# Critical value = 9.487729036781154\n",
    "# P value = 1.643714720800382e-05\n",
    "\n",
    "#Result for cat_hunt_yn_fix and cat_feed_freq: \n",
    "#reject h0, there is a relationship \n",
    "# Chi square value = 11.707137937819756 \n",
    "# Critical value = 7.814727903251179 \n",
    "# P value = 0.008456773291222408\n",
    "\n",
    "#Result for cat_hunt_freq and cat_neutered: \n",
    "#reject h0, there is a relationship \n",
    "# Chi square value = 8.40737017854709 \n",
    "# Critical value = 7.814727903251179 \n",
    "# P value = 0.03830173782538393\n",
    "\n",
    "#Result for cat_hunt and cat_neutered: \n",
    "#reject h0, there is a relationship \n",
    "# Chi square value = 12.531169871794873 \n",
    "# Critical value = 11.070497693516351\n",
    "# P value = 0.028191580540761763\n",
    "\n",
    "#Result for cat_hunt and cat_stay: \n",
    "#reject h0, there is a relationship \n",
    "# Chi square value = 21.717692991586432 \n",
    "# Critical value = 18.307038053275146 \n",
    "# P value = 0.01660917632535741"
   ]
  }
 ],
 "metadata": {
  "kernelspec": {
   "display_name": "Python 3",
   "language": "python",
   "name": "python3"
  },
  "language_info": {
   "codemirror_mode": {
    "name": "ipython",
    "version": 3
   },
   "file_extension": ".py",
   "mimetype": "text/x-python",
   "name": "python",
   "nbconvert_exporter": "python",
   "pygments_lexer": "ipython3",
   "version": "3.12.3"
  }
 },
 "nbformat": 4,
 "nbformat_minor": 2
}
