{
 "cells": [
  {
   "cell_type": "code",
   "execution_count": 2,
   "metadata": {},
   "outputs": [],
   "source": [
    "import pandas as pd\n",
    "import numpy as np\n",
    "import os\n",
    "import plotly.express as px\n",
    "import kaleido\n",
    "import plotly.io as pio\n",
    "\n",
    "## Change file path as needed!!!!\n",
    "wd = 'F:\\\\github\\\\doon_pet_survey_graphs\\\\'\n",
    "\n",
    "## Load csv files for cat and dog\n",
    "cat = pd.read_csv(f'{wd}cat_combine.csv')\n",
    "dog = pd.read_csv(f'{wd}dog_combine.csv')\n"
   ]
  },
  {
   "cell_type": "code",
   "execution_count": 3,
   "metadata": {},
   "outputs": [],
   "source": [
    "graph_vars = [('cat_hunt_yn_fix', 'cat_age'),\n",
    "('cat_hunt_yn_fix', 'cat_time_out'),\n",
    "('cat_hunt_yn_fix', 'cat_feed_freq'),\n",
    "('cat_neutered','cat_hunt_freq')]\n",
    "\n"
   ]
  },
  {
   "cell_type": "code",
   "execution_count": 4,
   "metadata": {},
   "outputs": [],
   "source": [
    "cat_order_dict = {\n",
    "    'cat_age':['Kitten (0-6 months)','Junior (7 months - 2 years)', 'Adult (3-6 years)','Mature (>7 years)'],\n",
    "    'cat_sex' : ['Female', 'Male'] ,\n",
    "    'cat_neutered' : ['Neutered', 'Not neutered'],\n",
    "    'cat_describe' : [\"Indoor-outdoor cat (the cat wanders outside on its own, but you feed it and look after it when it is sick)\",'Completely indoor cat (always stays at home and does not go out on its own'],\n",
    "    'cat_feed_freq' : ['Once a day', 'Twice a day', 'Thrice a day', 'Continuous supply of food is available' ],\n",
    "    'cat_time_out': ['Completely indoors', '1-3 hours', '3-5 hours', '5-7 hours', '>7 hours'],\n",
    "    'cat_stay' : ['At home', 'Outside', 'Either at home or outside'],\n",
    "    'cat_hunt_yn': ['Yes', 'No'],\n",
    "    'cat_hunt_yn_fix': ['Yes', 'No'],\n",
    "    'cat_hunt_freq': ['Once a week', 'Once in 15 days', 'Once a month','Once every few months'], \n",
    "    'cat_time': ['<20 minutes', '20 minutes-1hour','1-2 hours','2-4 hours','>4 hours']\n",
    "    }\n",
    "dog_order_dict = {\n",
    "    'dog_age' : ['0-3 months', '3 months - 1 year','1-3 years','3-5 years','5-8 years','8 - 12 years','12 years and older'],\n",
    "    'dog_sex' : ['Female', 'Male'],\n",
    "    'dog_neutered' : ['Neutered', 'Not neutered'],\n",
    "    'dog_hunt_yn' : ['Yes', 'No', 'Have not observed'],\n",
    "    'dog_hunt_yn_fix': ['Yes', 'No'],\n",
    "    'dog_hunt_freq' : ['Few times a month','Once every few months']\n",
    "}"
   ]
  },
  {
   "cell_type": "code",
   "execution_count": 82,
   "metadata": {},
   "outputs": [
    {
     "name": "stderr",
     "output_type": "stream",
     "text": [
      "c:\\Users\\priya\\AppData\\Local\\Programs\\Python\\Python312\\Lib\\site-packages\\plotly\\express\\_core.py:1979: FutureWarning:\n",
      "\n",
      "When grouping with a length-1 list-like, you will need to pass a length-1 tuple to get_group in a future version of pandas. Pass `(name,)` instead of `name` to silence this warning.\n",
      "\n"
     ]
    },
    {
     "data": {
      "application/vnd.plotly.v1+json": {
       "config": {
        "plotlyServerURL": "https://plot.ly"
       },
       "data": [
        {
         "alignmentgroup": "True",
         "bingroup": "x",
         "hovertemplate": "cat_stay=At home<br>cat_hunt=%{x}<br>count=%{y}<extra></extra>",
         "legendgroup": "At home",
         "marker": {
          "color": "#999999",
          "pattern": {
           "shape": ""
          }
         },
         "name": "At home",
         "offsetgroup": "At home",
         "orientation": "v",
         "showlegend": true,
         "texttemplate": "%{value}",
         "type": "histogram",
         "x": [
          "Rodents (rats, mice)",
          "Insects (butterflies, dragonflies, crickets, grasshoppers)",
          "Birds",
          "Rodents (rats, mice)",
          null,
          null,
          null,
          null,
          "Birds",
          "Birds",
          null,
          "Birds",
          null,
          null,
          null,
          "Birds",
          "Birds",
          null,
          "Birds",
          null,
          null,
          null,
          "Birds",
          null,
          "Rodents (rats, mice);Reptiles (lizards, geckos, snakes);",
          "Birds;Reptiles (lizards, geckos, snakes);",
          null,
          null,
          null,
          "Insects (butterflies, dragonflies, crickets, grasshoppers);",
          "Birds;Amphibians (frogs, toads);Reptiles (lizards, geckos, snakes);",
          "Birds;Amphibians (frogs, toads);Reptiles (lizards, geckos, snakes);Insects (butterflies, dragonflies, crickets, grasshoppers);",
          "Birds;Reptiles (lizards, geckos, snakes);Insects (butterflies, dragonflies, crickets, grasshoppers);",
          "Birds",
          null,
          "Birds;Rodents (rats, mice)",
          "Birds",
          "Birds;Rodents (rats, mice)",
          "Amphibians (frogs, toads);Reptiles (lizards, geckos, snakes);Insects (butterflies, dragonflies, crickets, grasshoppers);",
          "Birds;Insects (butterflies, dragonflies, crickets, grasshoppers);Rodents (rats, mice)",
          "Birds",
          "Birds",
          null,
          "Rodents (rats, mice)",
          "Birds",
          null,
          null,
          "Birds",
          null,
          null,
          null,
          null,
          "Birds",
          null,
          null,
          null,
          "Rodents (rats, mice)",
          "Rodents (rats, mice)",
          "Birds",
          null,
          null,
          null,
          null,
          null,
          null,
          null,
          null,
          null,
          null,
          null,
          null,
          null,
          null,
          null,
          "Birds",
          null,
          "Rodents (rats, mice)",
          null,
          null,
          null,
          null,
          null,
          null,
          null,
          null,
          "Rodents (rats, mice)",
          null,
          "Birds",
          "Rodents (rats, mice)",
          null,
          null,
          null,
          null,
          null,
          null,
          null,
          "Birds",
          "Rodents (rats, mice)",
          null,
          null
         ],
         "xaxis": "x",
         "yaxis": "y"
        },
        {
         "alignmentgroup": "True",
         "bingroup": "x",
         "hovertemplate": "cat_stay=Outside<br>cat_hunt=%{x}<br>count=%{y}<extra></extra>",
         "legendgroup": "Outside",
         "marker": {
          "color": "#555555",
          "pattern": {
           "shape": ""
          }
         },
         "name": "Outside",
         "offsetgroup": "Outside",
         "orientation": "v",
         "showlegend": true,
         "texttemplate": "%{value}",
         "type": "histogram",
         "x": [
          "Rodents (rats, mice)",
          "Rodents (rats, mice)",
          "Rodents (rats, mice)",
          null,
          null,
          null,
          "Birds;Reptiles (lizards, geckos, snakes);",
          "Rodents (rats, mice)",
          "Rodents (rats, mice)",
          null,
          null,
          null,
          "Rodents (rats, mice)",
          null,
          null,
          null,
          null,
          null
         ],
         "xaxis": "x",
         "yaxis": "y"
        },
        {
         "alignmentgroup": "True",
         "bingroup": "x",
         "hovertemplate": "cat_stay=Either at home or outside<br>cat_hunt=%{x}<br>count=%{y}<extra></extra>",
         "legendgroup": "Either at home or outside",
         "marker": {
          "color": "#999999",
          "pattern": {
           "shape": ""
          }
         },
         "name": "Either at home or outside",
         "offsetgroup": "Either at home or outside",
         "orientation": "v",
         "showlegend": true,
         "texttemplate": "%{value}",
         "type": "histogram",
         "x": [
          null,
          null,
          null,
          "Rodents (rats, mice)",
          null,
          "Birds;Amphibians (frogs, toads);",
          null,
          "Birds;Reptiles (lizards, geckos, snakes);Insects (butterflies, dragonflies, crickets, grasshoppers);",
          null,
          "Birds;Reptiles (lizards, geckos, snakes);Insects (butterflies, dragonflies, crickets, grasshoppers);",
          "Birds;Reptiles (lizards, geckos, snakes);Rodents (rats, mice)",
          "Amphibians (frogs, toads);",
          "Birds;Reptiles (lizards, geckos, snakes);Insects (butterflies, dragonflies, crickets, grasshoppers);",
          "Reptiles (lizards, geckos, snakes);Amphibians (frogs, toads);Insects (butterflies, dragonflies, crickets, grasshoppers);",
          null,
          null,
          null,
          null,
          null,
          null
         ],
         "xaxis": "x",
         "yaxis": "y"
        }
       ],
       "layout": {
        "barmode": "relative",
        "legend": {
         "title": {
          "text": "cat_stay"
         },
         "tracegroupgap": 0
        },
        "plot_bgcolor": "White",
        "showlegend": true,
        "template": {
         "data": {
          "bar": [
           {
            "error_x": {
             "color": "#2a3f5f"
            },
            "error_y": {
             "color": "#2a3f5f"
            },
            "marker": {
             "line": {
              "color": "#E5ECF6",
              "width": 0.5
             },
             "pattern": {
              "fillmode": "overlay",
              "size": 10,
              "solidity": 0.2
             }
            },
            "type": "bar"
           }
          ],
          "barpolar": [
           {
            "marker": {
             "line": {
              "color": "#E5ECF6",
              "width": 0.5
             },
             "pattern": {
              "fillmode": "overlay",
              "size": 10,
              "solidity": 0.2
             }
            },
            "type": "barpolar"
           }
          ],
          "carpet": [
           {
            "aaxis": {
             "endlinecolor": "#2a3f5f",
             "gridcolor": "white",
             "linecolor": "white",
             "minorgridcolor": "white",
             "startlinecolor": "#2a3f5f"
            },
            "baxis": {
             "endlinecolor": "#2a3f5f",
             "gridcolor": "white",
             "linecolor": "white",
             "minorgridcolor": "white",
             "startlinecolor": "#2a3f5f"
            },
            "type": "carpet"
           }
          ],
          "choropleth": [
           {
            "colorbar": {
             "outlinewidth": 0,
             "ticks": ""
            },
            "type": "choropleth"
           }
          ],
          "contour": [
           {
            "colorbar": {
             "outlinewidth": 0,
             "ticks": ""
            },
            "colorscale": [
             [
              0,
              "#0d0887"
             ],
             [
              0.1111111111111111,
              "#46039f"
             ],
             [
              0.2222222222222222,
              "#7201a8"
             ],
             [
              0.3333333333333333,
              "#9c179e"
             ],
             [
              0.4444444444444444,
              "#bd3786"
             ],
             [
              0.5555555555555556,
              "#d8576b"
             ],
             [
              0.6666666666666666,
              "#ed7953"
             ],
             [
              0.7777777777777778,
              "#fb9f3a"
             ],
             [
              0.8888888888888888,
              "#fdca26"
             ],
             [
              1,
              "#f0f921"
             ]
            ],
            "type": "contour"
           }
          ],
          "contourcarpet": [
           {
            "colorbar": {
             "outlinewidth": 0,
             "ticks": ""
            },
            "type": "contourcarpet"
           }
          ],
          "heatmap": [
           {
            "colorbar": {
             "outlinewidth": 0,
             "ticks": ""
            },
            "colorscale": [
             [
              0,
              "#0d0887"
             ],
             [
              0.1111111111111111,
              "#46039f"
             ],
             [
              0.2222222222222222,
              "#7201a8"
             ],
             [
              0.3333333333333333,
              "#9c179e"
             ],
             [
              0.4444444444444444,
              "#bd3786"
             ],
             [
              0.5555555555555556,
              "#d8576b"
             ],
             [
              0.6666666666666666,
              "#ed7953"
             ],
             [
              0.7777777777777778,
              "#fb9f3a"
             ],
             [
              0.8888888888888888,
              "#fdca26"
             ],
             [
              1,
              "#f0f921"
             ]
            ],
            "type": "heatmap"
           }
          ],
          "heatmapgl": [
           {
            "colorbar": {
             "outlinewidth": 0,
             "ticks": ""
            },
            "colorscale": [
             [
              0,
              "#0d0887"
             ],
             [
              0.1111111111111111,
              "#46039f"
             ],
             [
              0.2222222222222222,
              "#7201a8"
             ],
             [
              0.3333333333333333,
              "#9c179e"
             ],
             [
              0.4444444444444444,
              "#bd3786"
             ],
             [
              0.5555555555555556,
              "#d8576b"
             ],
             [
              0.6666666666666666,
              "#ed7953"
             ],
             [
              0.7777777777777778,
              "#fb9f3a"
             ],
             [
              0.8888888888888888,
              "#fdca26"
             ],
             [
              1,
              "#f0f921"
             ]
            ],
            "type": "heatmapgl"
           }
          ],
          "histogram": [
           {
            "marker": {
             "pattern": {
              "fillmode": "overlay",
              "size": 10,
              "solidity": 0.2
             }
            },
            "type": "histogram"
           }
          ],
          "histogram2d": [
           {
            "colorbar": {
             "outlinewidth": 0,
             "ticks": ""
            },
            "colorscale": [
             [
              0,
              "#0d0887"
             ],
             [
              0.1111111111111111,
              "#46039f"
             ],
             [
              0.2222222222222222,
              "#7201a8"
             ],
             [
              0.3333333333333333,
              "#9c179e"
             ],
             [
              0.4444444444444444,
              "#bd3786"
             ],
             [
              0.5555555555555556,
              "#d8576b"
             ],
             [
              0.6666666666666666,
              "#ed7953"
             ],
             [
              0.7777777777777778,
              "#fb9f3a"
             ],
             [
              0.8888888888888888,
              "#fdca26"
             ],
             [
              1,
              "#f0f921"
             ]
            ],
            "type": "histogram2d"
           }
          ],
          "histogram2dcontour": [
           {
            "colorbar": {
             "outlinewidth": 0,
             "ticks": ""
            },
            "colorscale": [
             [
              0,
              "#0d0887"
             ],
             [
              0.1111111111111111,
              "#46039f"
             ],
             [
              0.2222222222222222,
              "#7201a8"
             ],
             [
              0.3333333333333333,
              "#9c179e"
             ],
             [
              0.4444444444444444,
              "#bd3786"
             ],
             [
              0.5555555555555556,
              "#d8576b"
             ],
             [
              0.6666666666666666,
              "#ed7953"
             ],
             [
              0.7777777777777778,
              "#fb9f3a"
             ],
             [
              0.8888888888888888,
              "#fdca26"
             ],
             [
              1,
              "#f0f921"
             ]
            ],
            "type": "histogram2dcontour"
           }
          ],
          "mesh3d": [
           {
            "colorbar": {
             "outlinewidth": 0,
             "ticks": ""
            },
            "type": "mesh3d"
           }
          ],
          "parcoords": [
           {
            "line": {
             "colorbar": {
              "outlinewidth": 0,
              "ticks": ""
             }
            },
            "type": "parcoords"
           }
          ],
          "pie": [
           {
            "automargin": true,
            "type": "pie"
           }
          ],
          "scatter": [
           {
            "fillpattern": {
             "fillmode": "overlay",
             "size": 10,
             "solidity": 0.2
            },
            "type": "scatter"
           }
          ],
          "scatter3d": [
           {
            "line": {
             "colorbar": {
              "outlinewidth": 0,
              "ticks": ""
             }
            },
            "marker": {
             "colorbar": {
              "outlinewidth": 0,
              "ticks": ""
             }
            },
            "type": "scatter3d"
           }
          ],
          "scattercarpet": [
           {
            "marker": {
             "colorbar": {
              "outlinewidth": 0,
              "ticks": ""
             }
            },
            "type": "scattercarpet"
           }
          ],
          "scattergeo": [
           {
            "marker": {
             "colorbar": {
              "outlinewidth": 0,
              "ticks": ""
             }
            },
            "type": "scattergeo"
           }
          ],
          "scattergl": [
           {
            "marker": {
             "colorbar": {
              "outlinewidth": 0,
              "ticks": ""
             }
            },
            "type": "scattergl"
           }
          ],
          "scattermapbox": [
           {
            "marker": {
             "colorbar": {
              "outlinewidth": 0,
              "ticks": ""
             }
            },
            "type": "scattermapbox"
           }
          ],
          "scatterpolar": [
           {
            "marker": {
             "colorbar": {
              "outlinewidth": 0,
              "ticks": ""
             }
            },
            "type": "scatterpolar"
           }
          ],
          "scatterpolargl": [
           {
            "marker": {
             "colorbar": {
              "outlinewidth": 0,
              "ticks": ""
             }
            },
            "type": "scatterpolargl"
           }
          ],
          "scatterternary": [
           {
            "marker": {
             "colorbar": {
              "outlinewidth": 0,
              "ticks": ""
             }
            },
            "type": "scatterternary"
           }
          ],
          "surface": [
           {
            "colorbar": {
             "outlinewidth": 0,
             "ticks": ""
            },
            "colorscale": [
             [
              0,
              "#0d0887"
             ],
             [
              0.1111111111111111,
              "#46039f"
             ],
             [
              0.2222222222222222,
              "#7201a8"
             ],
             [
              0.3333333333333333,
              "#9c179e"
             ],
             [
              0.4444444444444444,
              "#bd3786"
             ],
             [
              0.5555555555555556,
              "#d8576b"
             ],
             [
              0.6666666666666666,
              "#ed7953"
             ],
             [
              0.7777777777777778,
              "#fb9f3a"
             ],
             [
              0.8888888888888888,
              "#fdca26"
             ],
             [
              1,
              "#f0f921"
             ]
            ],
            "type": "surface"
           }
          ],
          "table": [
           {
            "cells": {
             "fill": {
              "color": "#EBF0F8"
             },
             "line": {
              "color": "white"
             }
            },
            "header": {
             "fill": {
              "color": "#C8D4E3"
             },
             "line": {
              "color": "white"
             }
            },
            "type": "table"
           }
          ]
         },
         "layout": {
          "annotationdefaults": {
           "arrowcolor": "#2a3f5f",
           "arrowhead": 0,
           "arrowwidth": 1
          },
          "autotypenumbers": "strict",
          "coloraxis": {
           "colorbar": {
            "outlinewidth": 0,
            "ticks": ""
           }
          },
          "colorscale": {
           "diverging": [
            [
             0,
             "#8e0152"
            ],
            [
             0.1,
             "#c51b7d"
            ],
            [
             0.2,
             "#de77ae"
            ],
            [
             0.3,
             "#f1b6da"
            ],
            [
             0.4,
             "#fde0ef"
            ],
            [
             0.5,
             "#f7f7f7"
            ],
            [
             0.6,
             "#e6f5d0"
            ],
            [
             0.7,
             "#b8e186"
            ],
            [
             0.8,
             "#7fbc41"
            ],
            [
             0.9,
             "#4d9221"
            ],
            [
             1,
             "#276419"
            ]
           ],
           "sequential": [
            [
             0,
             "#0d0887"
            ],
            [
             0.1111111111111111,
             "#46039f"
            ],
            [
             0.2222222222222222,
             "#7201a8"
            ],
            [
             0.3333333333333333,
             "#9c179e"
            ],
            [
             0.4444444444444444,
             "#bd3786"
            ],
            [
             0.5555555555555556,
             "#d8576b"
            ],
            [
             0.6666666666666666,
             "#ed7953"
            ],
            [
             0.7777777777777778,
             "#fb9f3a"
            ],
            [
             0.8888888888888888,
             "#fdca26"
            ],
            [
             1,
             "#f0f921"
            ]
           ],
           "sequentialminus": [
            [
             0,
             "#0d0887"
            ],
            [
             0.1111111111111111,
             "#46039f"
            ],
            [
             0.2222222222222222,
             "#7201a8"
            ],
            [
             0.3333333333333333,
             "#9c179e"
            ],
            [
             0.4444444444444444,
             "#bd3786"
            ],
            [
             0.5555555555555556,
             "#d8576b"
            ],
            [
             0.6666666666666666,
             "#ed7953"
            ],
            [
             0.7777777777777778,
             "#fb9f3a"
            ],
            [
             0.8888888888888888,
             "#fdca26"
            ],
            [
             1,
             "#f0f921"
            ]
           ]
          },
          "colorway": [
           "#636efa",
           "#EF553B",
           "#00cc96",
           "#ab63fa",
           "#FFA15A",
           "#19d3f3",
           "#FF6692",
           "#B6E880",
           "#FF97FF",
           "#FECB52"
          ],
          "font": {
           "color": "#2a3f5f"
          },
          "geo": {
           "bgcolor": "white",
           "lakecolor": "white",
           "landcolor": "#E5ECF6",
           "showlakes": true,
           "showland": true,
           "subunitcolor": "white"
          },
          "hoverlabel": {
           "align": "left"
          },
          "hovermode": "closest",
          "mapbox": {
           "style": "light"
          },
          "paper_bgcolor": "white",
          "plot_bgcolor": "#E5ECF6",
          "polar": {
           "angularaxis": {
            "gridcolor": "white",
            "linecolor": "white",
            "ticks": ""
           },
           "bgcolor": "#E5ECF6",
           "radialaxis": {
            "gridcolor": "white",
            "linecolor": "white",
            "ticks": ""
           }
          },
          "scene": {
           "xaxis": {
            "backgroundcolor": "#E5ECF6",
            "gridcolor": "white",
            "gridwidth": 2,
            "linecolor": "white",
            "showbackground": true,
            "ticks": "",
            "zerolinecolor": "white"
           },
           "yaxis": {
            "backgroundcolor": "#E5ECF6",
            "gridcolor": "white",
            "gridwidth": 2,
            "linecolor": "white",
            "showbackground": true,
            "ticks": "",
            "zerolinecolor": "white"
           },
           "zaxis": {
            "backgroundcolor": "#E5ECF6",
            "gridcolor": "white",
            "gridwidth": 2,
            "linecolor": "white",
            "showbackground": true,
            "ticks": "",
            "zerolinecolor": "white"
           }
          },
          "shapedefaults": {
           "line": {
            "color": "#2a3f5f"
           }
          },
          "ternary": {
           "aaxis": {
            "gridcolor": "white",
            "linecolor": "white",
            "ticks": ""
           },
           "baxis": {
            "gridcolor": "white",
            "linecolor": "white",
            "ticks": ""
           },
           "bgcolor": "#E5ECF6",
           "caxis": {
            "gridcolor": "white",
            "linecolor": "white",
            "ticks": ""
           }
          },
          "title": {
           "x": 0.05
          },
          "xaxis": {
           "automargin": true,
           "gridcolor": "white",
           "linecolor": "white",
           "ticks": "",
           "title": {
            "standoff": 15
           },
           "zerolinecolor": "white",
           "zerolinewidth": 2
          },
          "yaxis": {
           "automargin": true,
           "gridcolor": "white",
           "linecolor": "white",
           "ticks": "",
           "title": {
            "standoff": 15
           },
           "zerolinecolor": "white",
           "zerolinewidth": 2
          }
         }
        },
        "title": {
         "text": "Plot cat_hunt and cat_stay"
        },
        "xaxis": {
         "anchor": "y",
         "domain": [
          0,
          1
         ],
         "title": {
          "text": "cat_hunt"
         }
        },
        "yaxis": {
         "anchor": "x",
         "domain": [
          0,
          1
         ],
         "gridcolor": "Grey",
         "gridwidth": 0.75,
         "linecolor": "Black",
         "linewidth": 1,
         "range": [
          0,
          20.900000000000002
         ],
         "showline": true,
         "title": {
          "text": "Count"
         },
         "zeroline": true,
         "zerolinecolor": "Black",
         "zerolinewidth": 1
        }
       }
      }
     },
     "metadata": {},
     "output_type": "display_data"
    }
   ],
   "source": [
    "x_var = graph_vars[2][1]\n",
    "col_var = graph_vars[2][0]\n",
    "col_scale = ['#999999','#555555']\n",
    "\n",
    "fig = px.histogram(cat, x_var, color= col_var,\n",
    "                   title = f'Plot {x_var} and {col_var}', # Graph title\n",
    "                   color_discrete_sequence= col_scale,\n",
    "                   category_orders= { x_var : cat_order_dict[x_var]}, # Define required order of categories\n",
    "                       text_auto=True ## dimension\n",
    "                       \n",
    "                   )\n",
    "\n",
    "fig.update_yaxes(title = 'Count', # Y-axis title\n",
    "                    showline=True, linewidth=1, linecolor='Black', \n",
    "                    gridcolor='Grey', gridwidth=0.75,\n",
    "                    zeroline=True, zerolinewidth=1, zerolinecolor='Black')\n",
    "    \n",
    "fig.update_xaxes(title = x_var) # X-axis title\n",
    "fig.update_layout(showlegend=True, # legend\n",
    "                      plot_bgcolor='White',\n",
    "                      yaxis_range=[0,\n",
    "                                   max(cat[x_var].value_counts()*1.1)])\n",
    "    \n",
    "\n",
    "fig.show()"
   ]
  },
  {
   "cell_type": "code",
   "execution_count": 85,
   "metadata": {},
   "outputs": [],
   "source": [
    "col_scale = ['#999999','#566455']\n",
    "\n",
    "def histo_stack(df, x_var, col_var):\n",
    "    fig = px.histogram(df, x_var, color= col_var,\n",
    "                   title = f'Plot {x_var} and {col_var}', # Graph title\n",
    "                   color_discrete_sequence= col_scale,\n",
    "                   pattern_shape=col_var,\n",
    "                   category_orders= { x_var : cat_order_dict[x_var]}, # Define required order of categories\n",
    "                    text_auto=True ## dimension                   \n",
    "                   )\n",
    "    \n",
    "    fig.update_yaxes(title = 'Count', # Y-axis title\n",
    "                    showline=True, linewidth=1, linecolor='Black', \n",
    "                    gridcolor='Grey', gridwidth=0.75,\n",
    "                    zeroline=True, zerolinewidth=1, zerolinecolor='Black')\n",
    "    \n",
    "    fig.update_xaxes(title = x_var) # X-axis title\n",
    "    \n",
    "    fig.update_layout(showlegend=True, # legend\n",
    "                      plot_bgcolor='White',\n",
    "                      yaxis_range=[0,\n",
    "                                   max(df[x_var].value_counts()*1.1)])\n",
    "    \n",
    "    # Save figure as png\n",
    "    pio.write_image(fig, f'{wd}hist_{x_var}and{col_var}.png', engine=\"kaleido\")\n",
    "    \n",
    "    # Display success message\n",
    "    print(f'Prepared histogram for {x_var} and {col_var}')"
   ]
  },
  {
   "cell_type": "code",
   "execution_count": 86,
   "metadata": {},
   "outputs": [
    {
     "name": "stdout",
     "output_type": "stream",
     "text": [
      "Prepared histogram for cat_age and cat_hunt_yn_fix\n",
      "Prepared histogram for cat_time_out and cat_hunt_yn_fix\n",
      "Prepared histogram for cat_feed_freq and cat_hunt_yn_fix\n",
      "Prepared histogram for cat_hunt_freq and cat_neutered\n"
     ]
    }
   ],
   "source": [
    "for n in range(len(graph_vars)):\n",
    "    histo_stack(df=cat, x_var=graph_vars[n][1], col_var=graph_vars[n][0])"
   ]
  },
  {
   "cell_type": "code",
   "execution_count": null,
   "metadata": {},
   "outputs": [],
   "source": [
    "x_var = graph_multi[0][1]\n",
    "col_var = graph_multi[0][0]\n",
    "col_scale = ['#999999','#555555']\n",
    "\n",
    "fig = px.histogram(cat, x_var, color= col_var,\n",
    "                   title = f'Plot {x_var} and {col_var}', # Graph title\n",
    "                   color_discrete_sequence= col_scale,\n",
    "                   #category_orders= { x_var : cat_order_dict[x_var]}, # Define required order of categories\n",
    "                       text_auto=True ## dimension\n",
    "                   )\n",
    "\n",
    "fig.update_yaxes(title = 'Count', # Y-axis title\n",
    "                    showline=True, linewidth=1, linecolor='Black', \n",
    "                    gridcolor='Grey', gridwidth=0.75,\n",
    "                    zeroline=True, zerolinewidth=1, zerolinecolor='Black')\n",
    "    \n",
    "fig.update_xaxes(title = x_var) # X-axis title\n",
    "fig.update_layout(showlegend=True, # legend\n",
    "                      plot_bgcolor='White',\n",
    "                      yaxis_range=[0,\n",
    "                                   max(cat[x_var].value_counts()*1.1)])\n",
    "    \n",
    "\n",
    "fig.show()"
   ]
  },
  {
   "cell_type": "code",
   "execution_count": null,
   "metadata": {},
   "outputs": [],
   "source": [
    "#Chi square association\n",
    "#Result for cat_hunt_yn_fix and cat_age: \n",
    "#reject h0, there is a relationship \n",
    "# Chi square value = 11.809170244367774 \n",
    "# Critical value = 7.814727903251179 \n",
    "# P value = 0.008066287380498083\n",
    "\n",
    "#Result for cat_hunt_yn_fix and cat_time_out: \n",
    "#reject h0, there is a relationship \n",
    "# Chi square value = 27.40818514439656 \n",
    "# Critical value = 9.487729036781154\n",
    "# P value = 1.643714720800382e-05\n",
    "\n",
    "#Result for cat_hunt_yn_fix and cat_feed_freq: \n",
    "#reject h0, there is a relationship \n",
    "# Chi square value = 11.707137937819756 \n",
    "# Critical value = 7.814727903251179 \n",
    "# P value = 0.008456773291222408\n",
    "\n",
    "#Result for cat_hunt_freq and cat_neutered: \n",
    "#reject h0, there is a relationship \n",
    "# Chi square value = 8.40737017854709 \n",
    "# Critical value = 7.814727903251179 \n",
    "# P value = 0.03830173782538393\n",
    "\n",
    "#Result for cat_hunt and cat_neutered: \n",
    "#reject h0, there is a relationship \n",
    "# Chi square value = 12.531169871794873 \n",
    "# Critical value = 11.070497693516351\n",
    "# P value = 0.028191580540761763\n",
    "\n",
    "#Result for cat_hunt and cat_stay: \n",
    "#reject h0, there is a relationship \n",
    "# Chi square value = 21.717692991586432 \n",
    "# Critical value = 18.307038053275146 \n",
    "# P value = 0.01660917632535741"
   ]
  },
  {
   "cell_type": "code",
   "execution_count": 25,
   "metadata": {},
   "outputs": [
    {
     "name": "stderr",
     "output_type": "stream",
     "text": [
      "C:\\Users\\priya\\AppData\\Local\\Temp\\ipykernel_4684\\1255201009.py:16: SettingWithCopyWarning:\n",
      "\n",
      "\n",
      "A value is trying to be set on a copy of a slice from a DataFrame.\n",
      "Try using .loc[row_indexer,col_indexer] = value instead\n",
      "\n",
      "See the caveats in the documentation: https://pandas.pydata.org/pandas-docs/stable/user_guide/indexing.html#returning-a-view-versus-a-copy\n",
      "\n",
      "C:\\Users\\priya\\AppData\\Local\\Temp\\ipykernel_4684\\1255201009.py:21: SettingWithCopyWarning:\n",
      "\n",
      "\n",
      "A value is trying to be set on a copy of a slice from a DataFrame.\n",
      "Try using .loc[row_indexer,col_indexer] = value instead\n",
      "\n",
      "See the caveats in the documentation: https://pandas.pydata.org/pandas-docs/stable/user_guide/indexing.html#returning-a-view-versus-a-copy\n",
      "\n",
      "c:\\Users\\priya\\AppData\\Local\\Programs\\Python\\Python312\\Lib\\site-packages\\plotly\\express\\_core.py:1979: FutureWarning:\n",
      "\n",
      "When grouping with a length-1 list-like, you will need to pass a length-1 tuple to get_group in a future version of pandas. Pass `(name,)` instead of `name` to silence this warning.\n",
      "\n"
     ]
    },
    {
     "name": "stdout",
     "output_type": "stream",
     "text": [
      "Prepared histogram for cat_hunt and cat_neutered\n"
     ]
    },
    {
     "name": "stderr",
     "output_type": "stream",
     "text": [
      "C:\\Users\\priya\\AppData\\Local\\Temp\\ipykernel_4684\\1255201009.py:16: SettingWithCopyWarning:\n",
      "\n",
      "\n",
      "A value is trying to be set on a copy of a slice from a DataFrame.\n",
      "Try using .loc[row_indexer,col_indexer] = value instead\n",
      "\n",
      "See the caveats in the documentation: https://pandas.pydata.org/pandas-docs/stable/user_guide/indexing.html#returning-a-view-versus-a-copy\n",
      "\n",
      "C:\\Users\\priya\\AppData\\Local\\Temp\\ipykernel_4684\\1255201009.py:21: SettingWithCopyWarning:\n",
      "\n",
      "\n",
      "A value is trying to be set on a copy of a slice from a DataFrame.\n",
      "Try using .loc[row_indexer,col_indexer] = value instead\n",
      "\n",
      "See the caveats in the documentation: https://pandas.pydata.org/pandas-docs/stable/user_guide/indexing.html#returning-a-view-versus-a-copy\n",
      "\n",
      "c:\\Users\\priya\\AppData\\Local\\Programs\\Python\\Python312\\Lib\\site-packages\\plotly\\express\\_core.py:1979: FutureWarning:\n",
      "\n",
      "When grouping with a length-1 list-like, you will need to pass a length-1 tuple to get_group in a future version of pandas. Pass `(name,)` instead of `name` to silence this warning.\n",
      "\n"
     ]
    },
    {
     "name": "stdout",
     "output_type": "stream",
     "text": [
      "Prepared histogram for cat_hunt and cat_stay\n"
     ]
    }
   ],
   "source": [
    "#def histo_multi(df, x_var, col_var):\n",
    "    # var is the column name to make histogram for\n",
    "    # order_dict is a dictionary containing correct order for all categorical values\n",
    "graph_multi = [('cat_neutered', 'cat_hunt'), ('cat_stay', 'cat_hunt')]  \n",
    "    # var is the column name to make histogram for\n",
    "    # order_dict is a dictionary containing correct order for all categorical values\n",
    "x_var = graph_multi[0][1]\n",
    "col_var = graph_multi[0][0]\n",
    "col_scale = ['#999999','#555555']\n",
    "\n",
    "\n",
    "def histo_stack(df, x_var, col_var):\n",
    "    # Select only required columns from the dataframe\n",
    "    df1 = df[[x_var, col_var]]\n",
    "    # Remove multiple entries in one line\n",
    "    df1['fix'] = df1[x_var].str.split(';')\n",
    "    df2 = df1.explode('fix').reset_index(drop=True)\n",
    "    # Remove blank values\n",
    "    df3 = df2[df2['fix']!='']\n",
    "    # Remove text inside ()\n",
    "    df3['fix'] = df3['fix'].str.split('(').str.get(0).str.strip()\n",
    "    \n",
    "    fig = px.histogram(df3, 'fix', color= col_var,\n",
    "                   title = f'Plot {x_var} and {col_var}', # Graph title\n",
    "                   #color_discrete_sequence= col_scale,\n",
    "                   #pattern_shape=col_var,\n",
    "                   #category_orders= { x_var : cat_order_dict[x_var]}, # Define required order of categories\n",
    "                    text_auto=True ## dimension                   \n",
    "                   )\n",
    "    fig.update_yaxes(title = 'Count', # Y-axis title\n",
    "                    showline=True, linewidth=1, linecolor='Black', \n",
    "                    gridcolor='Grey', gridwidth=0.75,\n",
    "                    zeroline=True, zerolinewidth=1, zerolinecolor='Black')\n",
    "    fig.update_xaxes(title = x_var) # X-axis title\n",
    "    fig.update_layout(showlegend=True, # legend\n",
    "                      plot_bgcolor='White',\n",
    "                      yaxis_range=[0,\n",
    "                                   max(df3['fix'].value_counts()*1.1)])\n",
    "    \n",
    "\n",
    "    # Save figure as png\n",
    "    pio.write_image(fig, f'{wd}hist_{x_var}and{col_var}.png', engine=\"kaleido\")\n",
    "    \n",
    "    # Display success message\n",
    "    print(f'Prepared histogram for {x_var} and {col_var}')\n",
    "\n",
    "\n",
    "histo_stack(cat, x_var = graph_multi[0][1], col_var = graph_multi[0][0])\n",
    "histo_stack(cat, x_var = graph_multi[1][1], col_var = graph_multi[1][0])\n"
   ]
  }
 ],
 "metadata": {
  "kernelspec": {
   "display_name": "Python 3",
   "language": "python",
   "name": "python3"
  },
  "language_info": {
   "codemirror_mode": {
    "name": "ipython",
    "version": 3
   },
   "file_extension": ".py",
   "mimetype": "text/x-python",
   "name": "python",
   "nbconvert_exporter": "python",
   "pygments_lexer": "ipython3",
   "version": "3.12.3"
  }
 },
 "nbformat": 4,
 "nbformat_minor": 2
}
