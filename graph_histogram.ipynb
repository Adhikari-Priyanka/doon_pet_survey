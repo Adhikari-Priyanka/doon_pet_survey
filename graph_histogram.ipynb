{
 "cells": [
  {
   "cell_type": "code",
   "execution_count": 1,
   "metadata": {},
   "outputs": [],
   "source": [
    "import pandas as pd\n",
    "import numpy as np\n",
    "import plotly.express as px\n",
    "import kaleido\n",
    "import plotly.io as pio\n"
   ]
  },
  {
   "cell_type": "code",
   "execution_count": 38,
   "metadata": {},
   "outputs": [],
   "source": [
    "cat = pd.read_csv(\"F:\\\\github\\\\doon_pet_survey\\\\cat_combine.csv\")\n",
    "dog = pd.read_csv(\"F:\\\\github\\\\doon_pet_survey\\\\dog_combine.csv\")"
   ]
  },
  {
   "cell_type": "markdown",
   "metadata": {},
   "source": [
    "writing function for histograms (single option)"
   ]
  },
  {
   "cell_type": "code",
   "execution_count": 39,
   "metadata": {},
   "outputs": [],
   "source": [
    "# Function to generate histograms\n",
    "\n",
    "def histo(df, var, order_dict):\n",
    "    # df is the dataframe to use - cat or dog\n",
    "    # var is the column name to make histogram for\n",
    "    # order_dict is a dictionary containing correct order for all categorical values\n",
    "    \n",
    "    col_scale = ['yellow','orange','red','green','blue']\n",
    "    \n",
    "    # Title for graph\n",
    "    var_tit = var.replace('_',' ')\n",
    "    \n",
    "    # Remove NA values from dataframe as per selected column 'var'\n",
    "    df1 = df.dropna(subset=[var])\n",
    "    \n",
    "    # Make a histogram\n",
    "    fig = px.histogram(df1, x=var,\n",
    "                       title=f\"Distribution of {var_tit}\",\n",
    "                       color= var,\n",
    "                       color_discrete_sequence= col_scale,\n",
    "                       category_orders= { var : order_dict[var]}\n",
    "                       )\n",
    "    fig.update_yaxes(title = 'Count') # Y-axis title\n",
    "    fig.update_xaxes(title = var_tit) # X-axis title\n",
    "    fig. update_layout(showlegend=False) # Remove legend\n",
    "    \n",
    "    # Save figure as png\n",
    "    pio.write_image(fig, f'hist_{var}.png', engine=\"kaleido\")\n",
    "\n",
    "\n"
   ]
  },
  {
   "cell_type": "code",
   "execution_count": 25,
   "metadata": {},
   "outputs": [],
   "source": [
    "# write a dictionary of column names and specific order\n",
    "cat_order_dict = {\n",
    "    'cat_age':['Kitten (0-6 months)','Junior (7 months - 2 years)', 'Adult (3-6 years)','Mature (7-10 years)', 'Senior (11-14 years)'],\n",
    "    'cat_sex' : ['Female', 'Male'] ,\n",
    "    'cat_neutered' : ['Neutered', 'Not neutered'],\n",
    "    'cat_describe' : [\"Indoor-outdoor cat (the cat wanders outside on its own, but you feed it and look after it when it is sick)\",'Completely indoor cat (always stays at home and does not go out on its own'],\n",
    "    'cat_feed_freq' : ['Continuous supply of food is available', 'Thrice a day', 'Twice a day', 'Once a day'],\n",
    "    'cat_time_out': ['1-3 hours', '3-5 hours', '5-7 hours', '7- 10 hours', '>10 hours', 'Completely indoors',\"I don't know\"],\n",
    "    'cat_stay' : ['At home', 'Outside', 'Either at home or outside'],\n",
    "    'cat_hunt': ['Yes', 'No', 'Have not observed'],\n",
    "    'cat_hunt_freq': ['Once every few months', 'Once a month', 'Once in 15 days', 'Once a week', 'Every day'],\n",
    "    'cat_time': ['None at all', '10-20 minutes', '20-40 minutes','40 minutes-1 hour','1-2 hours','2-4 hours','>4 hours']\n",
    "    }"
   ]
  },
  {
   "cell_type": "code",
   "execution_count": 55,
   "metadata": {},
   "outputs": [
    {
     "name": "stdout",
     "output_type": "stream",
     "text": [
      "graph for  cat_describe\n",
      "graph for  cat_age\n",
      "graph for  cat_sex\n",
      "graph for  cat_neutered\n",
      "graph for  cat_feed\n",
      "could not run  cat_feed\n",
      "graph for  cat_feed_freq\n",
      "graph for  cat_time_out\n",
      "graph for  cat_stay\n",
      "graph for  cat_hunt\n",
      "graph for  cat_hunt.1\n",
      "could not run  cat_hunt.1\n",
      "graph for  cat_hunt_freq\n",
      "graph for  cat_time\n"
     ]
    }
   ],
   "source": [
    "for col_name in cat.columns[2:]:\n",
    "    try:\n",
    "        print('graph for ', col_name)\n",
    "        histo(df=cat, var=col_name, order_dict=cat_order_dict)\n",
    "    except:\n",
    "        print('could not run ', col_name)\n",
    "        pass\n"
   ]
  },
  {
   "cell_type": "code",
   "execution_count": 49,
   "metadata": {},
   "outputs": [],
   "source": [
    "dog_order_dict = {\n",
    "    'dog_age' : ['0-3 months', '3 months - 1 year','1-3 years','3-5 years','5-8 years','8 - 12 years','12 years and older'],\n",
    "    'dog_sex' : ['Female', 'Male'],\n",
    "    'dog_neutered' : ['Neutered', 'Not neutered'],\n",
    "    'dog_hunt' : ['Yes', 'No', 'Have not observed'],\n",
    "    'dog_hunt_freq' : ['Once every few months','Once a month','Once in 15 days','Once a week','Everyday']\n",
    "}"
   ]
  },
  {
   "cell_type": "code",
   "execution_count": 54,
   "metadata": {},
   "outputs": [
    {
     "name": "stdout",
     "output_type": "stream",
     "text": [
      "graph for  dog_age\n",
      "graph for  dog_sex\n",
      "graph for  dog_neutered\n",
      "graph for  dog_hunt\n",
      "graph for  dog_hunt.1\n",
      "could not run dog_hunt.1\n",
      "graph for  dog_hunt_freq\n"
     ]
    }
   ],
   "source": [
    "for col_name in dog.columns[2:]:\n",
    "    try:\n",
    "        print('graph for ', col_name)\n",
    "        histo(df=dog, var=col_name, order_dict=dog_order_dict)\n",
    "    except:\n",
    "        print('could not run', col_name)\n",
    "        pass"
   ]
  }
 ],
 "metadata": {
  "kernelspec": {
   "display_name": "Python 3",
   "language": "python",
   "name": "python3"
  },
  "language_info": {
   "codemirror_mode": {
    "name": "ipython",
    "version": 3
   },
   "file_extension": ".py",
   "mimetype": "text/x-python",
   "name": "python",
   "nbconvert_exporter": "python",
   "pygments_lexer": "ipython3",
   "version": "3.12.3"
  }
 },
 "nbformat": 4,
 "nbformat_minor": 2
}
