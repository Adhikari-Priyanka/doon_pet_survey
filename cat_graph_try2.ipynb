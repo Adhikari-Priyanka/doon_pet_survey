{
 "cells": [
  {
   "cell_type": "code",
   "execution_count": 1,
   "metadata": {},
   "outputs": [],
   "source": [
    "import pandas as pd\n",
    "import numpy as np\n",
    "import plotly.express as px\n",
    "import kaleido\n",
    "import plotly.io as pio\n"
   ]
  },
  {
   "cell_type": "code",
   "execution_count": 2,
   "metadata": {},
   "outputs": [],
   "source": [
    "cat = pd.read_csv(\"F:\\\\github\\\\doon_pet_survey\\\\cat_combine.csv\")"
   ]
  },
  {
   "cell_type": "markdown",
   "metadata": {},
   "source": [
    "writing function"
   ]
  },
  {
   "cell_type": "code",
   "execution_count": 3,
   "metadata": {},
   "outputs": [],
   "source": [
    "# Function to generate histograms\n",
    "\n",
    "def histo(df, var, order_dict):\n",
    "    # df is the dataframe to use - cat or dog\n",
    "    # var is the column name to make histogram for\n",
    "    # order_dict is a dictionary containing correct order for all categorical values\n",
    "    \n",
    "    col_scale = ['yellow','orange','red','green','blue']\n",
    "    \n",
    "    # Title for graph\n",
    "    var_tit = var.replace('_',' ')\n",
    "    \n",
    "    # Remove NA values from dataframe as per selected column 'var'\n",
    "    df1 = df.dropna(subset=[var])\n",
    "    \n",
    "    # Make a histogram\n",
    "    fig = px.histogram(df1, x=var,\n",
    "                       title=f\"Distribution of {var_tit}\",\n",
    "                       color= var,\n",
    "                       color_discrete_sequence= col_scale,\n",
    "                       category_orders= { var : order_dict[var]}\n",
    "                       )\n",
    "    fig.update_yaxes(title = 'Count') # Y-axis title\n",
    "    fig.update_xaxes(title = var_tit) # X-axis title\n",
    "    fig. update_layout(showlegend=False) # Remove legend\n",
    "    \n",
    "    # Save figure as png\n",
    "    pio.write_image(fig, f'hist_{var}.png', engine=\"kaleido\")\n",
    "\n",
    "\n"
   ]
  },
  {
   "cell_type": "code",
   "execution_count": 4,
   "metadata": {},
   "outputs": [],
   "source": [
    "# write a dictionary of column names and specific order\n",
    "cat_order_dict = {\n",
    "    'cat_age':['Kitten (0-6 months)','Junior (7 months - 2 years)', 'Adult (3-6 years)','Mature (7-10 years)', 'Senior (11-14 years)'],\n",
    "    'cat_sex' : ['Female', 'Male'] ,\n",
    "    'cat_neutered' : ['Neutered', 'Not neutered']\n",
    "}"
   ]
  },
  {
   "cell_type": "code",
   "execution_count": 7,
   "metadata": {},
   "outputs": [],
   "source": [
    "histo(df=cat, var='cat_sex', order_dict=cat_order_dict)\n",
    "histo(df=cat, var='cat_age', order_dict=cat_order_dict)\n",
    "histo(df=cat, var='cat_neutered', order_dict=cat_order_dict)"
   ]
  }
 ],
 "metadata": {
  "kernelspec": {
   "display_name": "Python 3",
   "language": "python",
   "name": "python3"
  },
  "language_info": {
   "codemirror_mode": {
    "name": "ipython",
    "version": 3
   },
   "file_extension": ".py",
   "mimetype": "text/x-python",
   "name": "python",
   "nbconvert_exporter": "python",
   "pygments_lexer": "ipython3",
   "version": "3.12.3"
  }
 },
 "nbformat": 4,
 "nbformat_minor": 2
}
